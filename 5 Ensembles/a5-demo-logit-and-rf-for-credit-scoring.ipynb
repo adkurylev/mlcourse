{
 "cells": [
  {
   "cell_type": "markdown",
   "metadata": {
    "_uuid": "b61a17511d9e5e3ccb732c0210ba185c169f69ac"
   },
   "source": [
    "<center>\n",
    "<img src=\"https://habrastorage.org/files/fd4/502/43d/fd450243dd604b81b9713213a247aa20.jpg\">\n",
    "## Open Machine Learning Course [mlcourse.ai](https://mlcourse.ai)\n",
    "<center>\n",
    "\n",
    "Author: Vitaly Radchenko (@vradchenko). This material is subject to the terms and conditions of the [Creative Commons CC BY-NC-SA 4.0](https://creativecommons.org/licenses/by-nc-sa/4.0/) license. Free use is permitted for any non-commercial purpose."
   ]
  },
  {
   "cell_type": "markdown",
   "metadata": {
    "_uuid": "d1a67717ad3317664bf3d108f1f0b0480dd79c63"
   },
   "source": [
    "# <center>Assignment # 5 (demo)</center>\n",
    "## <center>Logistic Regression and Random Forest in the credit scoring problem</center>  "
   ]
  },
  {
   "cell_type": "markdown",
   "metadata": {
    "_uuid": "7dbf48ad8bbb6a239269064331db677929a5fa3c"
   },
   "source": [
    "In this assignment, you will build models and answer questions using data on credit scoring.\n",
    "\n",
    "Please write your code in the cells with the \"Your code here\" placeholder. Then, answer the questions in the [form](https://docs.google.com/forms/d/1gKt0DA4So8ohKAHZNCk58ezvg7K_tik26d9QND7WC6M/edit).\n",
    "\n",
    "Let's start with a warm-up exercise."
   ]
  },
  {
   "cell_type": "markdown",
   "metadata": {
    "_uuid": "5ffc2f53b8f50650fd793336a20a9f0807b8529a"
   },
   "source": [
    "**Question 1.** There are 5 jurors in a courtroom. Each of them can correctly identify the guilt of the defendant with 70% probability, independent of one another. What is the probability that the jurors will jointly reach the correct verdict if the final decision is by majority vote?\n",
    "\n",
    "1. 70.00%\n",
    "2. 83.20%\n",
    "3. 83.70%\n",
    "4. 87.50%"
   ]
  },
  {
   "cell_type": "markdown",
   "metadata": {
    "_uuid": "7ff86c79a045fcfc6bf8211e539c3ab75a45181b"
   },
   "source": [
    "Great! Let's move on to machine learning.\n",
    "\n",
    "## Credit scoring problem setup\n",
    "\n",
    "#### Problem\n",
    "\n",
    "Predict whether the customer will repay their credit within 90 days. This is a binary classification problem; we will assign customers into good or bad categories based on our prediction.\n",
    "\n",
    "#### Data description\n",
    "\n",
    "| Feature | Variable Type | Value Type | Description |\n",
    "|:--------|:--------------|:-----------|:------------|\n",
    "| age | Input Feature | integer | Customer age |\n",
    "| DebtRatio | Input Feature | real | Total monthly loan payments (loan, alimony, etc.) / Total monthly income percentage |\n",
    "| NumberOfTime30-59DaysPastDueNotWorse | Input Feature | integer | The number of cases when client has overdue 30-59 days (not worse) on other loans during the last 2 years |\n",
    "| NumberOfTimes90DaysLate | Input Feature | integer | Number of cases when customer had 90+dpd overdue on other credits |\n",
    "| NumberOfTime60-89DaysPastDueNotWorse | Input Feature | integer | Number of cased when customer has 60-89dpd (not worse) during the last 2 years |\n",
    "| NumberOfDependents | Input Feature | integer | The number of customer dependents |\n",
    "| SeriousDlqin2yrs | Target Variable | binary: <br>0 or 1 | Customer hasn't paid the loan debt within 90 days |\n"
   ]
  },
  {
   "cell_type": "markdown",
   "metadata": {
    "_uuid": "258acae393c2c65de1b7c1ac581f0917009f58b9"
   },
   "source": [
    "Let's set up our environment:"
   ]
  },
  {
   "cell_type": "code",
   "execution_count": 1,
   "metadata": {
    "_uuid": "958b2cd2a45ac297fb144c47f2e993e0a5fab169",
    "collapsed": true
   },
   "outputs": [],
   "source": [
    "# Disable warnings in Anaconda\n",
    "import warnings\n",
    "warnings.filterwarnings('ignore')\n",
    "\n",
    "import numpy as np\n",
    "import pandas as pd\n",
    "%matplotlib inline\n",
    "import matplotlib.pyplot as plt\n",
    "import seaborn as sns\n",
    "sns.set()"
   ]
  },
  {
   "cell_type": "code",
   "execution_count": 2,
   "metadata": {
    "_uuid": "57846c0c4a90698c2d1e4577a1d338566a0511d2",
    "collapsed": true
   },
   "outputs": [],
   "source": [
    "from matplotlib import rcParams\n",
    "rcParams['figure.figsize'] = 11, 8"
   ]
  },
  {
   "cell_type": "markdown",
   "metadata": {
    "_uuid": "2e2cb4aaa7a07017c00bfa8621a8c1ff91e980e0"
   },
   "source": [
    "Let's write the function that will replace *NaN* values with the median for each column."
   ]
  },
  {
   "cell_type": "code",
   "execution_count": 3,
   "metadata": {
    "_uuid": "d4b4c073dc7d54908594df01f032b249b2ee461e",
    "collapsed": true
   },
   "outputs": [],
   "source": [
    "def fill_nan(table):\n",
    "    for col in table.columns:\n",
    "        table[col] = table[col].fillna(table[col].median())\n",
    "    return table   "
   ]
  },
  {
   "cell_type": "markdown",
   "metadata": {
    "_uuid": "c0961fa0182a6b2fc8cda93c5a6e2112234e5fba"
   },
   "source": [
    "Now, read the data:"
   ]
  },
  {
   "cell_type": "code",
   "execution_count": 4,
   "metadata": {
    "_uuid": "63c902c7d1d18943bd460ee15c73d8a10e5d8ff3"
   },
   "outputs": [
    {
     "data": {
      "text/html": [
       "<div>\n",
       "<style scoped>\n",
       "    .dataframe tbody tr th:only-of-type {\n",
       "        vertical-align: middle;\n",
       "    }\n",
       "\n",
       "    .dataframe tbody tr th {\n",
       "        vertical-align: top;\n",
       "    }\n",
       "\n",
       "    .dataframe thead th {\n",
       "        text-align: right;\n",
       "    }\n",
       "</style>\n",
       "<table border=\"1\" class=\"dataframe\">\n",
       "  <thead>\n",
       "    <tr style=\"text-align: right;\">\n",
       "      <th></th>\n",
       "      <th>SeriousDlqin2yrs</th>\n",
       "      <th>age</th>\n",
       "      <th>NumberOfTime30-59DaysPastDueNotWorse</th>\n",
       "      <th>DebtRatio</th>\n",
       "      <th>NumberOfTimes90DaysLate</th>\n",
       "      <th>NumberOfTime60-89DaysPastDueNotWorse</th>\n",
       "      <th>MonthlyIncome</th>\n",
       "      <th>NumberOfDependents</th>\n",
       "    </tr>\n",
       "  </thead>\n",
       "  <tbody>\n",
       "    <tr>\n",
       "      <th>0</th>\n",
       "      <td>0</td>\n",
       "      <td>64</td>\n",
       "      <td>0</td>\n",
       "      <td>0.249908</td>\n",
       "      <td>0</td>\n",
       "      <td>0</td>\n",
       "      <td>8158.0</td>\n",
       "      <td>0.0</td>\n",
       "    </tr>\n",
       "    <tr>\n",
       "      <th>1</th>\n",
       "      <td>0</td>\n",
       "      <td>58</td>\n",
       "      <td>0</td>\n",
       "      <td>3870.000000</td>\n",
       "      <td>0</td>\n",
       "      <td>0</td>\n",
       "      <td>NaN</td>\n",
       "      <td>0.0</td>\n",
       "    </tr>\n",
       "    <tr>\n",
       "      <th>2</th>\n",
       "      <td>0</td>\n",
       "      <td>41</td>\n",
       "      <td>0</td>\n",
       "      <td>0.456127</td>\n",
       "      <td>0</td>\n",
       "      <td>0</td>\n",
       "      <td>6666.0</td>\n",
       "      <td>0.0</td>\n",
       "    </tr>\n",
       "    <tr>\n",
       "      <th>3</th>\n",
       "      <td>0</td>\n",
       "      <td>43</td>\n",
       "      <td>0</td>\n",
       "      <td>0.000190</td>\n",
       "      <td>0</td>\n",
       "      <td>0</td>\n",
       "      <td>10500.0</td>\n",
       "      <td>2.0</td>\n",
       "    </tr>\n",
       "    <tr>\n",
       "      <th>4</th>\n",
       "      <td>1</td>\n",
       "      <td>49</td>\n",
       "      <td>0</td>\n",
       "      <td>0.271820</td>\n",
       "      <td>0</td>\n",
       "      <td>0</td>\n",
       "      <td>400.0</td>\n",
       "      <td>0.0</td>\n",
       "    </tr>\n",
       "  </tbody>\n",
       "</table>\n",
       "</div>"
      ],
      "text/plain": [
       "   SeriousDlqin2yrs  age  NumberOfTime30-59DaysPastDueNotWorse    DebtRatio  \\\n",
       "0                 0   64                                     0     0.249908   \n",
       "1                 0   58                                     0  3870.000000   \n",
       "2                 0   41                                     0     0.456127   \n",
       "3                 0   43                                     0     0.000190   \n",
       "4                 1   49                                     0     0.271820   \n",
       "\n",
       "   NumberOfTimes90DaysLate  NumberOfTime60-89DaysPastDueNotWorse  \\\n",
       "0                        0                                     0   \n",
       "1                        0                                     0   \n",
       "2                        0                                     0   \n",
       "3                        0                                     0   \n",
       "4                        0                                     0   \n",
       "\n",
       "   MonthlyIncome  NumberOfDependents  \n",
       "0         8158.0                 0.0  \n",
       "1            NaN                 0.0  \n",
       "2         6666.0                 0.0  \n",
       "3        10500.0                 2.0  \n",
       "4          400.0                 0.0  "
      ]
     },
     "execution_count": 4,
     "metadata": {},
     "output_type": "execute_result"
    }
   ],
   "source": [
    "data = pd.read_csv('../input/credit_scoring_sample.csv')\n",
    "data.head()"
   ]
  },
  {
   "cell_type": "markdown",
   "metadata": {
    "_uuid": "474023002b2a33fd2981180400c2f71050577c7d"
   },
   "source": [
    "Look at the variable types:"
   ]
  },
  {
   "cell_type": "code",
   "execution_count": 5,
   "metadata": {
    "_uuid": "8fdf8aa51c7febd4ee2d7914129888b01703b716"
   },
   "outputs": [
    {
     "data": {
      "text/plain": [
       "SeriousDlqin2yrs                          int64\n",
       "age                                       int64\n",
       "NumberOfTime30-59DaysPastDueNotWorse      int64\n",
       "DebtRatio                               float64\n",
       "NumberOfTimes90DaysLate                   int64\n",
       "NumberOfTime60-89DaysPastDueNotWorse      int64\n",
       "MonthlyIncome                           float64\n",
       "NumberOfDependents                      float64\n",
       "dtype: object"
      ]
     },
     "execution_count": 5,
     "metadata": {},
     "output_type": "execute_result"
    }
   ],
   "source": [
    "data.dtypes"
   ]
  },
  {
   "cell_type": "markdown",
   "metadata": {
    "_uuid": "4833aaafffd639f230f63c9e42e4919cbbd6210a"
   },
   "source": [
    "Check the class balance:"
   ]
  },
  {
   "cell_type": "code",
   "execution_count": 6,
   "metadata": {
    "_uuid": "35216e0b707d378f851ea1bc9602890998e1ec97"
   },
   "outputs": [
    {
     "name": "stdout",
     "output_type": "stream",
     "text": [
      "Distribution of the target:\n"
     ]
    },
    {
     "data": {
      "text/plain": [
       "0    0.777511\n",
       "1    0.222489\n",
       "Name: SeriousDlqin2yrs, dtype: float64"
      ]
     },
     "execution_count": 6,
     "metadata": {},
     "output_type": "execute_result"
    },
    {
     "data": {
      "image/png": "[encoded data removed]",
      "text/plain": [
       "<Figure size 792x576 with 1 Axes>"
      ]
     },
     "metadata": {},
     "output_type": "display_data"
    }
   ],
   "source": [
    "ax = data['SeriousDlqin2yrs'].hist(orientation='horizontal', color='red')\n",
    "ax.set_xlabel(\"number_of_observations\")\n",
    "ax.set_ylabel(\"unique_value\")\n",
    "ax.set_title(\"Target distribution\")\n",
    "\n",
    "print('Distribution of the target:')\n",
    "data['SeriousDlqin2yrs'].value_counts()/data.shape[0]"
   ]
  },
  {
   "cell_type": "markdown",
   "metadata": {
    "_uuid": "5a4cb242e76c3b015679850caac7b14db8fa1359"
   },
   "source": [
    "Separate the input variable names by excluding the target:"
   ]
  },
  {
   "cell_type": "code",
   "execution_count": 7,
   "metadata": {
    "_uuid": "4d6c4a84ed3fcb2447f11b1d0a08a0b4fefcbaf7"
   },
   "outputs": [
    {
     "data": {
      "text/plain": [
       "['age',\n",
       " 'NumberOfTime30-59DaysPastDueNotWorse',\n",
       " 'DebtRatio',\n",
       " 'NumberOfTimes90DaysLate',\n",
       " 'NumberOfTime60-89DaysPastDueNotWorse',\n",
       " 'MonthlyIncome',\n",
       " 'NumberOfDependents']"
      ]
     },
     "execution_count": 7,
     "metadata": {},
     "output_type": "execute_result"
    }
   ],
   "source": [
    "independent_columns_names = [x for x in data if x != 'SeriousDlqin2yrs']\n",
    "independent_columns_names"
   ]
  },
  {
   "cell_type": "markdown",
   "metadata": {
    "_uuid": "ad909484de236ecaf28a596fd5570aa11c07ee43"
   },
   "source": [
    "Apply the function to replace *NaN* values:"
   ]
  },
  {
   "cell_type": "code",
   "execution_count": 8,
   "metadata": {
    "_uuid": "4e1e6638b8c50ee094b8d9f3af693fda035aa8c4",
    "collapsed": true
   },
   "outputs": [],
   "source": [
    "table = fill_nan(data)"
   ]
  },
  {
   "cell_type": "markdown",
   "metadata": {
    "_uuid": "9b13ec032da4e9b7eab544694132b8f58d9d5adf"
   },
   "source": [
    "Separate the target variable and input features:"
   ]
  },
  {
   "cell_type": "code",
   "execution_count": 9,
   "metadata": {
    "_uuid": "55248eae34b1abf6337dbce543195d9adef29e19",
    "collapsed": true
   },
   "outputs": [],
   "source": [
    "X = table[independent_columns_names]\n",
    "y = table['SeriousDlqin2yrs']"
   ]
  },
  {
   "cell_type": "markdown",
   "metadata": {
    "_uuid": "42b04e39e04e71871fb2ff1db2295034465d8cbd"
   },
   "source": [
    "## Bootstrapping"
   ]
  },
  {
   "cell_type": "markdown",
   "metadata": {
    "_uuid": "245e80eb69b9faba586538ecf6bd0343e0748abb"
   },
   "source": [
    "**Question 2.** Make an interval estimate of the average age for the customers who delayed repayment at the 90% confidence level. Use the example from the article as reference, if needed. Also, use `np.random.seed(0)` as before. What is the resulting interval estimate?\n",
    "\n",
    "1. 52.59 – 52.86\n",
    "2. 45.71 – 46.13\n",
    "3. 45.68 – 46.17\n",
    "4. 52.56 – 52.88"
   ]
  },
  {
   "cell_type": "code",
   "execution_count": 10,
   "metadata": {},
   "outputs": [],
   "source": [
    "np.random.seed(0)"
   ]
  },
  {
   "cell_type": "code",
   "execution_count": 11,
   "metadata": {
    "_uuid": "0f42f4204cfa87434c31e5e09e270a42bd61850c",
    "collapsed": true
   },
   "outputs": [],
   "source": [
    "def get_bootstrap_samples(data, n_samples):\n",
    "    \"\"\"Generate bootstrap samples using the bootstrap method.\"\"\"\n",
    "    indices = np.random.randint(0, len(data), (n_samples, len(data)))\n",
    "    samples = data[indices]\n",
    "    return samples\n",
    "\n",
    "\n",
    "def stat_intervals(stat, alpha):\n",
    "    \"\"\"Produce an interval estimate.\"\"\"\n",
    "    boundaries = np.percentile(stat, [100 * alpha / 2.0, 100 * (1 - alpha / 2.0)])\n",
    "    return boundaries"
   ]
  },
  {
   "cell_type": "code",
   "execution_count": 31,
   "metadata": {},
   "outputs": [],
   "source": [
    "delayed_age = table.loc[table['SeriousDlqin2yrs'] == 1, 'age'].values\n",
    "payed_age = table.loc[table['SeriousDlqin2yrs'] == 0, 'age'].values"
   ]
  },
  {
   "cell_type": "code",
   "execution_count": 32,
   "metadata": {},
   "outputs": [
    {
     "name": "stdout",
     "output_type": "stream",
     "text": [
      "[45.71200379 46.15381508]\n",
      "[52.60211348 52.84948483]\n"
     ]
    }
   ],
   "source": [
    "delayed_mean_age = [np.mean(sample) for sample in get_bootstrap_samples(delayed_age, 1000)]\n",
    "print(stat_intervals(delayed_mean_age, 0.1))\n",
    "\n",
    "payed_mean_age = [np.mean(sample) for sample in get_bootstrap_samples(payed_age, 1000)]\n",
    "print(stat_intervals(payed_mean_age, 0.1))"
   ]
  },
  {
   "cell_type": "markdown",
   "metadata": {
    "_uuid": "0aa59947da5e312e6bb5067bb16ae656a8a8e500"
   },
   "source": [
    "## Logistic regression"
   ]
  },
  {
   "cell_type": "markdown",
   "metadata": {
    "_uuid": "4f046164d4d94ed0b2ee0ebe7f4bfff460d0505a"
   },
   "source": [
    "Let's set up to use logistic regression:"
   ]
  },
  {
   "cell_type": "code",
   "execution_count": 38,
   "metadata": {
    "_uuid": "fea9173ba030a164de7d4da05d83bce7a881e92f",
    "collapsed": true
   },
   "outputs": [],
   "source": [
    "from sklearn.linear_model import LogisticRegression\n",
    "from sklearn.model_selection import GridSearchCV, StratifiedKFold\n",
    "from sklearn.metrics import roc_auc_score"
   ]
  },
  {
   "cell_type": "markdown",
   "metadata": {
    "_uuid": "c44b5d33184b81809b2747b2d2f5150b13b65e8f"
   },
   "source": [
    "Now, we will create a `LogisticRegression` model and use `class_weight='balanced'` to make up for our unbalanced classes."
   ]
  },
  {
   "cell_type": "code",
   "execution_count": 34,
   "metadata": {
    "_uuid": "92292d0240a272fc6c3948069ef2fc0b9f165926",
    "collapsed": true
   },
   "outputs": [],
   "source": [
    "lr = LogisticRegression(random_state=5, class_weight='balanced')"
   ]
  },
  {
   "cell_type": "markdown",
   "metadata": {
    "_uuid": "24e5007b98c985443af75a02a858e85fc72a693a"
   },
   "source": [
    "Let's try to find the best regularization coefficient, which is the coefficient `C` for logistic regression. Then, we will have an optimal model that is not overfit and is a good predictor of the target variable."
   ]
  },
  {
   "cell_type": "code",
   "execution_count": 35,
   "metadata": {
    "_uuid": "77fff55d1042a6b6b906e4f8af2e977966e9ad55",
    "collapsed": true
   },
   "outputs": [],
   "source": [
    "parameters = {'C': (0.0001, 0.001, 0.01, 0.1, 1, 10)}"
   ]
  },
  {
   "cell_type": "markdown",
   "metadata": {
    "_uuid": "c350a2bb023dd8ea2261fefee539ae70408586e6"
   },
   "source": [
    "In order to find the optimal value of `C`, let's apply stratified 5-fold validation and look at the *ROC AUC* against different values of the parameter `C`. Use the `StratifiedKFold` function for this: "
   ]
  },
  {
   "cell_type": "code",
   "execution_count": 36,
   "metadata": {
    "_uuid": "296cc7dbf4b702d3170f3515f4c431da8dd02486",
    "collapsed": true
   },
   "outputs": [],
   "source": [
    "skf = StratifiedKFold(n_splits=5, shuffle=True, random_state=5)"
   ]
  },
  {
   "cell_type": "markdown",
   "metadata": {
    "_uuid": "f0bd594310bed9b8664fccbad367ec40b2494ef9"
   },
   "source": [
    "One of the important metrics of model quality is the *Area Under the Curve (AUC)*. *ROC AUC* varies from 0 to 1. The closer ROC AUC is to 1, the better the quality of the classification model."
   ]
  },
  {
   "cell_type": "markdown",
   "metadata": {
    "_uuid": "47ff20f56a9496a90057141c671f4534c4d8f435",
    "collapsed": true
   },
   "source": [
    "**Question 3.** Perform a *Grid Search* with the scoring metric \"roc_auc\" for the parameter `C`. Which value of the parameter `C` is optimal? \n",
    "\n",
    "1. 0.0001\n",
    "2. 0.001\n",
    "3. 0.01\n",
    "4. 0.1\n",
    "5. 1\n",
    "6. 10"
   ]
  },
  {
   "cell_type": "code",
   "execution_count": 47,
   "metadata": {
    "_uuid": "ea814fc22242f846757a81fda5d63b1e8d71b81c",
    "collapsed": true
   },
   "outputs": [
    {
     "name": "stdout",
     "output_type": "stream",
     "text": [
      "Fitting 5 folds for each of 6 candidates, totalling 30 fits\n",
      "[CV 1/5] END ...........................C=0.001;, score=0.809 total time=   0.9s\n",
      "[CV 2/5] END ...........................C=0.001;, score=0.818 total time=   1.0s\n",
      "[CV 4/5] END ..........................C=0.0001;, score=0.802 total time=   1.1s\n",
      "[CV 2/5] END ..........................C=0.0001;, score=0.788 total time=   1.1s\n",
      "[CV 5/5] END ..........................C=0.0001;, score=0.790 total time=   1.4s\n",
      "[CV 3/5] END ..........................C=0.0001;, score=0.786 total time=   1.4s\n",
      "[CV 1/5] END ..........................C=0.0001;, score=0.780 total time=   1.5s\n",
      "[CV 3/5] END ...........................C=0.001;, score=0.795 total time=   1.7s\n",
      "[CV 5/5] END ...........................C=0.001;, score=0.816 total time=   0.9s\n",
      "[CV 4/5] END ...........................C=0.001;, score=0.806 total time=   1.0s\n",
      "[CV 1/5] END ............................C=0.01;, score=0.809 total time=   0.9s\n",
      "[CV 5/5] END ............................C=0.01;, score=0.817 total time=   0.9s\n",
      "[CV 1/5] END .............................C=0.1;, score=0.792 total time=   1.2s\n",
      "[CV 4/5] END .............................C=0.1;, score=0.806 total time=   0.8s\n",
      "[CV 3/5] END ............................C=0.01;, score=0.798 total time=   1.5s\n",
      "[CV 4/5] END ............................C=0.01;, score=0.806 total time=   1.4s\n"
     ]
    },
    {
     "name": "stderr",
     "output_type": "stream",
     "text": [
      "/home/Aleksandr/.local/lib/python3.10/site-packages/sklearn/linear_model/_logistic.py:444: ConvergenceWarning: lbfgs failed to converge (status=1):\n",
      "STOP: TOTAL NO. of ITERATIONS REACHED LIMIT.\n",
      "\n",
      "Increase the number of iterations (max_iter) or scale the data as shown in:\n",
      "    https://scikit-learn.org/stable/modules/preprocessing.html\n",
      "Please also refer to the documentation for alternative solver options:\n",
      "    https://scikit-learn.org/stable/modules/linear_model.html#logistic-regression\n",
      "  n_iter_i = _check_optimize_result(\n",
      "/home/Aleksandr/.local/lib/python3.10/site-packages/sklearn/linear_model/_logistic.py:444: ConvergenceWarning: lbfgs failed to converge (status=1):\n",
      "STOP: TOTAL NO. of ITERATIONS REACHED LIMIT.\n",
      "\n",
      "Increase the number of iterations (max_iter) or scale the data as shown in:\n",
      "    https://scikit-learn.org/stable/modules/preprocessing.html\n",
      "Please also refer to the documentation for alternative solver options:\n",
      "    https://scikit-learn.org/stable/modules/linear_model.html#logistic-regression\n",
      "  n_iter_i = _check_optimize_result(\n"
     ]
    },
    {
     "name": "stdout",
     "output_type": "stream",
     "text": [
      "[CV 3/5] END .............................C=0.1;, score=0.799 total time=   1.1s\n",
      "[CV 2/5] END .............................C=0.1;, score=0.794 total time=   1.3s\n",
      "[CV 2/5] END ............................C=0.01;, score=0.794 total time=   2.1s\n",
      "[CV 5/5] END .............................C=0.1;, score=0.801 total time=   1.6s\n",
      "[CV 1/5] END ...............................C=1;, score=0.784 total time=   1.3s\n",
      "[CV 4/5] END ...............................C=1;, score=0.806 total time=   1.3s\n"
     ]
    },
    {
     "name": "stderr",
     "output_type": "stream",
     "text": [
      "/home/Aleksandr/.local/lib/python3.10/site-packages/sklearn/linear_model/_logistic.py:444: ConvergenceWarning: lbfgs failed to converge (status=1):\n",
      "STOP: TOTAL NO. of ITERATIONS REACHED LIMIT.\n",
      "\n",
      "Increase the number of iterations (max_iter) or scale the data as shown in:\n",
      "    https://scikit-learn.org/stable/modules/preprocessing.html\n",
      "Please also refer to the documentation for alternative solver options:\n",
      "    https://scikit-learn.org/stable/modules/linear_model.html#logistic-regression\n",
      "  n_iter_i = _check_optimize_result(\n",
      "/home/Aleksandr/.local/lib/python3.10/site-packages/sklearn/linear_model/_logistic.py:444: ConvergenceWarning: lbfgs failed to converge (status=1):\n",
      "STOP: TOTAL NO. of ITERATIONS REACHED LIMIT.\n",
      "\n",
      "Increase the number of iterations (max_iter) or scale the data as shown in:\n",
      "    https://scikit-learn.org/stable/modules/preprocessing.html\n",
      "Please also refer to the documentation for alternative solver options:\n",
      "    https://scikit-learn.org/stable/modules/linear_model.html#logistic-regression\n",
      "  n_iter_i = _check_optimize_result(\n"
     ]
    },
    {
     "name": "stdout",
     "output_type": "stream",
     "text": [
      "[CV 2/5] END ...............................C=1;, score=0.794 total time=   1.6s\n",
      "[CV 3/5] END ...............................C=1;, score=0.799 total time=   1.7s\n"
     ]
    },
    {
     "name": "stderr",
     "output_type": "stream",
     "text": [
      "/home/Aleksandr/.local/lib/python3.10/site-packages/sklearn/linear_model/_logistic.py:444: ConvergenceWarning: lbfgs failed to converge (status=1):\n",
      "STOP: TOTAL NO. of ITERATIONS REACHED LIMIT.\n",
      "\n",
      "Increase the number of iterations (max_iter) or scale the data as shown in:\n",
      "    https://scikit-learn.org/stable/modules/preprocessing.html\n",
      "Please also refer to the documentation for alternative solver options:\n",
      "    https://scikit-learn.org/stable/modules/linear_model.html#logistic-regression\n",
      "  n_iter_i = _check_optimize_result(\n"
     ]
    },
    {
     "name": "stdout",
     "output_type": "stream",
     "text": [
      "[CV 2/5] END ..............................C=10;, score=0.805 total time=   1.4s\n",
      "[CV 1/5] END ..............................C=10;, score=0.792 total time=   1.6s\n",
      "[CV 4/5] END ..............................C=10;, score=0.806 total time=   0.7s\n",
      "[CV 3/5] END ..............................C=10;, score=0.799 total time=   0.8s\n",
      "[CV 5/5] END ..............................C=10;, score=0.801 total time=   1.0s\n",
      "[CV 5/5] END ...............................C=1;, score=0.792 total time=   2.0s\n"
     ]
    },
    {
     "name": "stderr",
     "output_type": "stream",
     "text": [
      "/home/Aleksandr/.local/lib/python3.10/site-packages/sklearn/linear_model/_logistic.py:444: ConvergenceWarning: lbfgs failed to converge (status=1):\n",
      "STOP: TOTAL NO. of ITERATIONS REACHED LIMIT.\n",
      "\n",
      "Increase the number of iterations (max_iter) or scale the data as shown in:\n",
      "    https://scikit-learn.org/stable/modules/preprocessing.html\n",
      "Please also refer to the documentation for alternative solver options:\n",
      "    https://scikit-learn.org/stable/modules/linear_model.html#logistic-regression\n",
      "  n_iter_i = _check_optimize_result(\n"
     ]
    },
    {
     "data": {
      "text/html": [
       "<style>#sk-container-id-6 {color: black;background-color: white;}#sk-container-id-6 pre{padding: 0;}#sk-container-id-6 div.sk-toggleable {background-color: white;}#sk-container-id-6 label.sk-toggleable__label {cursor: pointer;display: block;width: 100%;margin-bottom: 0;padding: 0.3em;box-sizing: border-box;text-align: center;}#sk-container-id-6 label.sk-toggleable__label-arrow:before {content: \"▸\";float: left;margin-right: 0.25em;color: #696969;}#sk-container-id-6 label.sk-toggleable__label-arrow:hover:before {color: black;}#sk-container-id-6 div.sk-estimator:hover label.sk-toggleable__label-arrow:before {color: black;}#sk-container-id-6 div.sk-toggleable__content {max-height: 0;max-width: 0;overflow: hidden;text-align: left;background-color: #f0f8ff;}#sk-container-id-6 div.sk-toggleable__content pre {margin: 0.2em;color: black;border-radius: 0.25em;background-color: #f0f8ff;}#sk-container-id-6 input.sk-toggleable__control:checked~div.sk-toggleable__content {max-height: 200px;max-width: 100%;overflow: auto;}#sk-container-id-6 input.sk-toggleable__control:checked~label.sk-toggleable__label-arrow:before {content: \"▾\";}#sk-container-id-6 div.sk-estimator input.sk-toggleable__control:checked~label.sk-toggleable__label {background-color: #d4ebff;}#sk-container-id-6 div.sk-label input.sk-toggleable__control:checked~label.sk-toggleable__label {background-color: #d4ebff;}#sk-container-id-6 input.sk-hidden--visually {border: 0;clip: rect(1px 1px 1px 1px);clip: rect(1px, 1px, 1px, 1px);height: 1px;margin: -1px;overflow: hidden;padding: 0;position: absolute;width: 1px;}#sk-container-id-6 div.sk-estimator {font-family: monospace;background-color: #f0f8ff;border: 1px dotted black;border-radius: 0.25em;box-sizing: border-box;margin-bottom: 0.5em;}#sk-container-id-6 div.sk-estimator:hover {background-color: #d4ebff;}#sk-container-id-6 div.sk-parallel-item::after {content: \"\";width: 100%;border-bottom: 1px solid gray;flex-grow: 1;}#sk-container-id-6 div.sk-label:hover label.sk-toggleable__label {background-color: #d4ebff;}#sk-container-id-6 div.sk-serial::before {content: \"\";position: absolute;border-left: 1px solid gray;box-sizing: border-box;top: 0;bottom: 0;left: 50%;z-index: 0;}#sk-container-id-6 div.sk-serial {display: flex;flex-direction: column;align-items: center;background-color: white;padding-right: 0.2em;padding-left: 0.2em;position: relative;}#sk-container-id-6 div.sk-item {position: relative;z-index: 1;}#sk-container-id-6 div.sk-parallel {display: flex;align-items: stretch;justify-content: center;background-color: white;position: relative;}#sk-container-id-6 div.sk-item::before, #sk-container-id-6 div.sk-parallel-item::before {content: \"\";position: absolute;border-left: 1px solid gray;box-sizing: border-box;top: 0;bottom: 0;left: 50%;z-index: -1;}#sk-container-id-6 div.sk-parallel-item {display: flex;flex-direction: column;z-index: 1;position: relative;background-color: white;}#sk-container-id-6 div.sk-parallel-item:first-child::after {align-self: flex-end;width: 50%;}#sk-container-id-6 div.sk-parallel-item:last-child::after {align-self: flex-start;width: 50%;}#sk-container-id-6 div.sk-parallel-item:only-child::after {width: 0;}#sk-container-id-6 div.sk-dashed-wrapped {border: 1px dashed gray;margin: 0 0.4em 0.5em 0.4em;box-sizing: border-box;padding-bottom: 0.4em;background-color: white;}#sk-container-id-6 div.sk-label label {font-family: monospace;font-weight: bold;display: inline-block;line-height: 1.2em;}#sk-container-id-6 div.sk-label-container {text-align: center;}#sk-container-id-6 div.sk-container {/* jupyter's `normalize.less` sets `[hidden] { display: none; }` but bootstrap.min.css set `[hidden] { display: none !important; }` so we also need the `!important` here to be able to override the default hidden behavior on the sphinx rendered scikit-learn.org. See: https://github.com/scikit-learn/scikit-learn/issues/21755 */display: inline-block !important;position: relative;}#sk-container-id-6 div.sk-text-repr-fallback {display: none;}</style><div id=\"sk-container-id-6\" class=\"sk-top-container\"><div class=\"sk-text-repr-fallback\"><pre>GridSearchCV(cv=StratifiedKFold(n_splits=5, random_state=5, shuffle=True),\n",
       "             estimator=LogisticRegression(class_weight=&#x27;balanced&#x27;,\n",
       "                                          random_state=5),\n",
       "             n_jobs=-1, param_grid={&#x27;C&#x27;: (0.0001, 0.001, 0.01, 0.1, 1, 10)},\n",
       "             scoring=&#x27;roc_auc&#x27;, verbose=3)</pre><b>In a Jupyter environment, please rerun this cell to show the HTML representation or trust the notebook. <br />On GitHub, the HTML representation is unable to render, please try loading this page with nbviewer.org.</b></div><div class=\"sk-container\" hidden><div class=\"sk-item sk-dashed-wrapped\"><div class=\"sk-label-container\"><div class=\"sk-label sk-toggleable\"><input class=\"sk-toggleable__control sk-hidden--visually\" id=\"sk-estimator-id-12\" type=\"checkbox\" ><label for=\"sk-estimator-id-12\" class=\"sk-toggleable__label sk-toggleable__label-arrow\">GridSearchCV</label><div class=\"sk-toggleable__content\"><pre>GridSearchCV(cv=StratifiedKFold(n_splits=5, random_state=5, shuffle=True),\n",
       "             estimator=LogisticRegression(class_weight=&#x27;balanced&#x27;,\n",
       "                                          random_state=5),\n",
       "             n_jobs=-1, param_grid={&#x27;C&#x27;: (0.0001, 0.001, 0.01, 0.1, 1, 10)},\n",
       "             scoring=&#x27;roc_auc&#x27;, verbose=3)</pre></div></div></div><div class=\"sk-parallel\"><div class=\"sk-parallel-item\"><div class=\"sk-item\"><div class=\"sk-label-container\"><div class=\"sk-label sk-toggleable\"><input class=\"sk-toggleable__control sk-hidden--visually\" id=\"sk-estimator-id-13\" type=\"checkbox\" ><label for=\"sk-estimator-id-13\" class=\"sk-toggleable__label sk-toggleable__label-arrow\">estimator: LogisticRegression</label><div class=\"sk-toggleable__content\"><pre>LogisticRegression(class_weight=&#x27;balanced&#x27;, random_state=5)</pre></div></div></div><div class=\"sk-serial\"><div class=\"sk-item\"><div class=\"sk-estimator sk-toggleable\"><input class=\"sk-toggleable__control sk-hidden--visually\" id=\"sk-estimator-id-14\" type=\"checkbox\" ><label for=\"sk-estimator-id-14\" class=\"sk-toggleable__label sk-toggleable__label-arrow\">LogisticRegression</label><div class=\"sk-toggleable__content\"><pre>LogisticRegression(class_weight=&#x27;balanced&#x27;, random_state=5)</pre></div></div></div></div></div></div></div></div></div></div>"
      ],
      "text/plain": [
       "GridSearchCV(cv=StratifiedKFold(n_splits=5, random_state=5, shuffle=True),\n",
       "             estimator=LogisticRegression(class_weight='balanced',\n",
       "                                          random_state=5),\n",
       "             n_jobs=-1, param_grid={'C': (0.0001, 0.001, 0.01, 0.1, 1, 10)},\n",
       "             scoring='roc_auc', verbose=3)"
      ]
     },
     "execution_count": 47,
     "metadata": {},
     "output_type": "execute_result"
    }
   ],
   "source": [
    "best_log_reg = GridSearchCV(lr, parameters, scoring='roc_auc', cv=skf, verbose=3, n_jobs=-1)\n",
    "best_log_reg.fit(X, y)"
   ]
  },
  {
   "cell_type": "code",
   "execution_count": 48,
   "metadata": {},
   "outputs": [
    {
     "data": {
      "text/html": [
       "<style>#sk-container-id-7 {color: black;background-color: white;}#sk-container-id-7 pre{padding: 0;}#sk-container-id-7 div.sk-toggleable {background-color: white;}#sk-container-id-7 label.sk-toggleable__label {cursor: pointer;display: block;width: 100%;margin-bottom: 0;padding: 0.3em;box-sizing: border-box;text-align: center;}#sk-container-id-7 label.sk-toggleable__label-arrow:before {content: \"▸\";float: left;margin-right: 0.25em;color: #696969;}#sk-container-id-7 label.sk-toggleable__label-arrow:hover:before {color: black;}#sk-container-id-7 div.sk-estimator:hover label.sk-toggleable__label-arrow:before {color: black;}#sk-container-id-7 div.sk-toggleable__content {max-height: 0;max-width: 0;overflow: hidden;text-align: left;background-color: #f0f8ff;}#sk-container-id-7 div.sk-toggleable__content pre {margin: 0.2em;color: black;border-radius: 0.25em;background-color: #f0f8ff;}#sk-container-id-7 input.sk-toggleable__control:checked~div.sk-toggleable__content {max-height: 200px;max-width: 100%;overflow: auto;}#sk-container-id-7 input.sk-toggleable__control:checked~label.sk-toggleable__label-arrow:before {content: \"▾\";}#sk-container-id-7 div.sk-estimator input.sk-toggleable__control:checked~label.sk-toggleable__label {background-color: #d4ebff;}#sk-container-id-7 div.sk-label input.sk-toggleable__control:checked~label.sk-toggleable__label {background-color: #d4ebff;}#sk-container-id-7 input.sk-hidden--visually {border: 0;clip: rect(1px 1px 1px 1px);clip: rect(1px, 1px, 1px, 1px);height: 1px;margin: -1px;overflow: hidden;padding: 0;position: absolute;width: 1px;}#sk-container-id-7 div.sk-estimator {font-family: monospace;background-color: #f0f8ff;border: 1px dotted black;border-radius: 0.25em;box-sizing: border-box;margin-bottom: 0.5em;}#sk-container-id-7 div.sk-estimator:hover {background-color: #d4ebff;}#sk-container-id-7 div.sk-parallel-item::after {content: \"\";width: 100%;border-bottom: 1px solid gray;flex-grow: 1;}#sk-container-id-7 div.sk-label:hover label.sk-toggleable__label {background-color: #d4ebff;}#sk-container-id-7 div.sk-serial::before {content: \"\";position: absolute;border-left: 1px solid gray;box-sizing: border-box;top: 0;bottom: 0;left: 50%;z-index: 0;}#sk-container-id-7 div.sk-serial {display: flex;flex-direction: column;align-items: center;background-color: white;padding-right: 0.2em;padding-left: 0.2em;position: relative;}#sk-container-id-7 div.sk-item {position: relative;z-index: 1;}#sk-container-id-7 div.sk-parallel {display: flex;align-items: stretch;justify-content: center;background-color: white;position: relative;}#sk-container-id-7 div.sk-item::before, #sk-container-id-7 div.sk-parallel-item::before {content: \"\";position: absolute;border-left: 1px solid gray;box-sizing: border-box;top: 0;bottom: 0;left: 50%;z-index: -1;}#sk-container-id-7 div.sk-parallel-item {display: flex;flex-direction: column;z-index: 1;position: relative;background-color: white;}#sk-container-id-7 div.sk-parallel-item:first-child::after {align-self: flex-end;width: 50%;}#sk-container-id-7 div.sk-parallel-item:last-child::after {align-self: flex-start;width: 50%;}#sk-container-id-7 div.sk-parallel-item:only-child::after {width: 0;}#sk-container-id-7 div.sk-dashed-wrapped {border: 1px dashed gray;margin: 0 0.4em 0.5em 0.4em;box-sizing: border-box;padding-bottom: 0.4em;background-color: white;}#sk-container-id-7 div.sk-label label {font-family: monospace;font-weight: bold;display: inline-block;line-height: 1.2em;}#sk-container-id-7 div.sk-label-container {text-align: center;}#sk-container-id-7 div.sk-container {/* jupyter's `normalize.less` sets `[hidden] { display: none; }` but bootstrap.min.css set `[hidden] { display: none !important; }` so we also need the `!important` here to be able to override the default hidden behavior on the sphinx rendered scikit-learn.org. See: https://github.com/scikit-learn/scikit-learn/issues/21755 */display: inline-block !important;position: relative;}#sk-container-id-7 div.sk-text-repr-fallback {display: none;}</style><div id=\"sk-container-id-7\" class=\"sk-top-container\"><div class=\"sk-text-repr-fallback\"><pre>LogisticRegression(C=0.001, class_weight=&#x27;balanced&#x27;, random_state=5)</pre><b>In a Jupyter environment, please rerun this cell to show the HTML representation or trust the notebook. <br />On GitHub, the HTML representation is unable to render, please try loading this page with nbviewer.org.</b></div><div class=\"sk-container\" hidden><div class=\"sk-item\"><div class=\"sk-estimator sk-toggleable\"><input class=\"sk-toggleable__control sk-hidden--visually\" id=\"sk-estimator-id-15\" type=\"checkbox\" checked><label for=\"sk-estimator-id-15\" class=\"sk-toggleable__label sk-toggleable__label-arrow\">LogisticRegression</label><div class=\"sk-toggleable__content\"><pre>LogisticRegression(C=0.001, class_weight=&#x27;balanced&#x27;, random_state=5)</pre></div></div></div></div></div>"
      ],
      "text/plain": [
       "LogisticRegression(C=0.001, class_weight='balanced', random_state=5)"
      ]
     },
     "execution_count": 48,
     "metadata": {},
     "output_type": "execute_result"
    }
   ],
   "source": [
    "best_log_reg.best_estimator_"
   ]
  },
  {
   "cell_type": "markdown",
   "metadata": {
    "_uuid": "ca2e0d2ea8660f676352b0bd60e44e27b621f87a"
   },
   "source": [
    "**Question 4.** Can we consider the best model stable? The model is *stable* if the standard deviation on validation is less than 0.5%. Save the *ROC AUC* value of the best model; it will be useful for the following tasks.\n",
    "\n",
    "1. Yes\n",
    "2. No"
   ]
  },
  {
   "cell_type": "code",
   "execution_count": 49,
   "metadata": {
    "_uuid": "27e2211b96120fad6ed989c4b55a033184b442ac",
    "collapsed": true
   },
   "outputs": [
    {
     "data": {
      "text/plain": [
       "0.8089120626797153"
      ]
     },
     "execution_count": 49,
     "metadata": {},
     "output_type": "execute_result"
    }
   ],
   "source": [
    "best_roc_auc = best_log_reg.best_score_\n",
    "best_roc_auc"
   ]
  },
  {
   "cell_type": "code",
   "execution_count": 59,
   "metadata": {},
   "outputs": [
    {
     "data": {
      "text/plain": [
       "0.008137559189742445"
      ]
     },
     "execution_count": 59,
     "metadata": {},
     "output_type": "execute_result"
    }
   ],
   "source": [
    "best_log_reg.cv_results_['std_test_score'][1]"
   ]
  },
  {
   "cell_type": "markdown",
   "metadata": {
    "_uuid": "eed75eaefb5defeaef3a062d957171c02f94868c"
   },
   "source": [
    "## Feature importance\n",
    "\n",
    "**Question 5.** *Feature importance* is defined by the absolute value of its corresponding coefficient. First, you need to normalize all of the feature values so that it will be valid to compare them. What is the most important feature for the best logistic regression model?\n",
    "\n",
    "1. age\n",
    "2. NumberOfTime30-59DaysPastDueNotWorse\n",
    "3. DebtRatio\n",
    "4. NumberOfTimes90DaysLate\n",
    "5. NumberOfTime60-89DaysPastDueNotWorse\n",
    "6. MonthlyIncome\n",
    "7. NumberOfDependents"
   ]
  },
  {
   "cell_type": "code",
   "execution_count": 71,
   "metadata": {
    "_uuid": "42af010963a6d4c1526c3499031dcec274a2b460",
    "collapsed": true
   },
   "outputs": [
    {
     "data": {
      "text/plain": [
       "'balanced'"
      ]
     },
     "execution_count": 71,
     "metadata": {},
     "output_type": "execute_result"
    }
   ],
   "source": [
    "from sklearn.preprocessing import StandardScaler\n",
    "\n",
    "lr = LogisticRegression(C=0.001, random_state=5, class_weight=\"balanced\")\n",
    "scal = StandardScaler()\n",
    "lr.fit(scal.fit_transform(X), y)"
   ]
  },
  {
   "cell_type": "code",
   "execution_count": 85,
   "metadata": {},
   "outputs": [
    {
     "name": "stdout",
     "output_type": "stream",
     "text": [
      "age : -0.41670229389926805\n",
      "NumberOfTime30-59DaysPastDueNotWorse : 0.7234269813289963\n",
      "DebtRatio : -0.024096052247510408\n",
      "NumberOfTimes90DaysLate : 0.5167876396300675\n",
      "NumberOfTime60-89DaysPastDueNotWorse : 0.1935576371756851\n",
      "MonthlyIncome : -0.16314631733039356\n",
      "NumberOfDependents : 0.10144319526520451\n"
     ]
    }
   ],
   "source": [
    "for coef, name in zip(lr.coef_[0], independent_columns_names):\n",
    "    print(name, \":\", coef)"
   ]
  },
  {
   "cell_type": "markdown",
   "metadata": {
    "_uuid": "a59758c51a56ff502021f9aaccd3493f4c848e16"
   },
   "source": [
    "**Question 6.** Calculate how much `DebtRatio` affects our prediction using the [softmax function](https://en.wikipedia.org/wiki/Softmax_function). What is its value?\n",
    "\n",
    "1. 0.38\n",
    "2. -0.02\n",
    "3. 0.11\n",
    "4. 0.24"
   ]
  },
  {
   "cell_type": "code",
   "execution_count": 86,
   "metadata": {
    "_uuid": "de4195b2f9012f17ad3b2999622404c303d4fd0a",
    "collapsed": true
   },
   "outputs": [
    {
     "name": "stdout",
     "output_type": "stream",
     "text": [
      "0.11426375283065274\n"
     ]
    }
   ],
   "source": [
    "print((np.exp(lr.coef_[0]) / np.sum(np.exp(lr.coef_[0])))[2])"
   ]
  },
  {
   "cell_type": "markdown",
   "metadata": {
    "_uuid": "82f94fb1ddc235250d7af7156cf69280daa317f5"
   },
   "source": [
    "**Question 7.** Let's see how we can interpret the impact of our features. For this, recalculate the logistic regression with absolute values, that is without scaling. Next, modify the customer's age by adding 20 years, keeping the other features unchanged. How many times will the chance that the customer will not repay their debt increase? You can find an example of the theoretical calculation [here](https://www.unm.edu/~schrader/biostat/bio2/Spr06/lec11.pdf).\n",
    "\n",
    "1. -0.01\n",
    "2. 0.70\n",
    "3. 8.32\n",
    "4. 0.66"
   ]
  },
  {
   "cell_type": "code",
   "execution_count": 87,
   "metadata": {
    "_uuid": "988fd621a0f8b9cee200d1798a1535c941615dab",
    "collapsed": true
   },
   "outputs": [
    {
     "name": "stdout",
     "output_type": "stream",
     "text": [
      "age : -0.013216432722687032\n",
      "NumberOfTime30-59DaysPastDueNotWorse : 0.48332447854977717\n",
      "DebtRatio : -1.1813313971402884e-05\n",
      "NumberOfTimes90DaysLate : 0.4244789842068591\n",
      "NumberOfTime60-89DaysPastDueNotWorse : 0.22277813641535296\n",
      "MonthlyIncome : -1.1757149850319673e-05\n",
      "NumberOfDependents : 0.12540742428252102\n"
     ]
    }
   ],
   "source": [
    "lr = LogisticRegression(C=0.001, random_state=5, class_weight=\"balanced\")\n",
    "lr.fit(X, y)\n",
    "\n",
    "for coef, name in zip(lr.coef_[0], independent_columns_names):\n",
    "    print(name, \":\", coef)"
   ]
  },
  {
   "cell_type": "markdown",
   "metadata": {
    "_uuid": "99d5aa4076c7064d4834ea32fa63a59da16c4b2d"
   },
   "source": [
    "## Random Forest"
   ]
  },
  {
   "cell_type": "markdown",
   "metadata": {
    "_uuid": "02f4dfa9d98b7663df6637e6bfe2ff8e43950905"
   },
   "source": [
    "Import the Random Forest classifier:"
   ]
  },
  {
   "cell_type": "code",
   "execution_count": 60,
   "metadata": {
    "_uuid": "8252905ea996ff08abc33560f7d144af8c53b56d",
    "collapsed": true
   },
   "outputs": [],
   "source": [
    "from sklearn.ensemble import RandomForestClassifier"
   ]
  },
  {
   "cell_type": "markdown",
   "metadata": {
    "_uuid": "e4e84e4a9edb9ded1e5e5bfcde49c7c116e82cf1"
   },
   "source": [
    "Initialize Random Forest with 100 trees and balance target classes:"
   ]
  },
  {
   "cell_type": "code",
   "execution_count": 61,
   "metadata": {
    "_uuid": "d9fcfad198b9bc5f66c916b8179b2edf7d1d6067",
    "collapsed": true
   },
   "outputs": [],
   "source": [
    "rf = RandomForestClassifier(n_estimators=100, n_jobs=-1, random_state=42, \n",
    "                            class_weight='balanced')"
   ]
  },
  {
   "cell_type": "markdown",
   "metadata": {
    "_uuid": "bcea3461d96645b75836cbb547c758036f6af715"
   },
   "source": [
    "We will search for the best parameters among the following values:"
   ]
  },
  {
   "cell_type": "code",
   "execution_count": 62,
   "metadata": {
    "_uuid": "4b04ae1ed65286fbd4e90511f524de20177f580a",
    "collapsed": true
   },
   "outputs": [],
   "source": [
    "parameters = {'max_features': [1, 2, 4], 'min_samples_leaf': [3, 5, 7, 9], 'max_depth': [5,10,15]}"
   ]
  },
  {
   "cell_type": "markdown",
   "metadata": {
    "_uuid": "74eb21e19cc3f6b819a438431a7781ffe6c3c9eb"
   },
   "source": [
    "Also, we will use the stratified k-fold validation again. You should still have the `skf` variable."
   ]
  },
  {
   "cell_type": "markdown",
   "metadata": {
    "_uuid": "a9a00dd2fc41cb30c83525e6129bfd8c13fa5492"
   },
   "source": [
    "**Question 8.** How much higher is the *ROC AUC* of the best random forest model than that of the best logistic regression on validation?\n",
    "\n",
    "1. 4%\n",
    "2. 3%\n",
    "3. 2%\n",
    "4. 1%"
   ]
  },
  {
   "cell_type": "code",
   "execution_count": 65,
   "metadata": {
    "_uuid": "f7adb918cb3a5b3b45527e77ca0eb70f78ecce55",
    "collapsed": true
   },
   "outputs": [
    {
     "name": "stdout",
     "output_type": "stream",
     "text": [
      "Fitting 5 folds for each of 36 candidates, totalling 180 fits\n",
      "[CV 3/5] END max_depth=5, max_features=1, min_samples_leaf=5;, score=0.827 total time=   4.4s\n",
      "[CV 2/5] END max_depth=5, max_features=1, min_samples_leaf=5;, score=0.834 total time=   4.7s\n",
      "[CV 5/5] END max_depth=5, max_features=1, min_samples_leaf=3;, score=0.832 total time=   5.1s[CV 1/5] END max_depth=5, max_features=1, min_samples_leaf=3;, score=0.823 total time=   5.1s\n",
      "\n",
      "[CV 3/5] END max_depth=5, max_features=1, min_samples_leaf=3;, score=0.827 total time=   5.2s\n",
      "[CV 4/5] END max_depth=5, max_features=1, min_samples_leaf=3;, score=0.827 total time=   5.4s\n",
      "[CV 1/5] END max_depth=5, max_features=1, min_samples_leaf=5;, score=0.823 total time=   6.5s\n",
      "[CV 2/5] END max_depth=5, max_features=1, min_samples_leaf=3;, score=0.834 total time=   6.7s\n",
      "[CV 4/5] END max_depth=5, max_features=1, min_samples_leaf=5;, score=0.826 total time=   5.9s\n",
      "[CV 5/5] END max_depth=5, max_features=1, min_samples_leaf=5;, score=0.832 total time=   5.7s\n",
      "[CV 4/5] END max_depth=5, max_features=1, min_samples_leaf=7;, score=0.826 total time=   5.0s\n",
      "[CV 1/5] END max_depth=5, max_features=1, min_samples_leaf=7;, score=0.823 total time=   5.9s\n",
      "[CV 2/5] END max_depth=5, max_features=1, min_samples_leaf=7;, score=0.834 total time=   6.3s\n",
      "[CV 5/5] END max_depth=5, max_features=1, min_samples_leaf=7;, score=0.832 total time=   5.2s\n",
      "[CV 1/5] END max_depth=5, max_features=1, min_samples_leaf=9;, score=0.823 total time=   5.3s\n",
      "[CV 3/5] END max_depth=5, max_features=1, min_samples_leaf=7;, score=0.827 total time=   6.9s\n",
      "[CV 5/5] END max_depth=5, max_features=1, min_samples_leaf=9;, score=0.832 total time=   5.1s\n",
      "[CV 3/5] END max_depth=5, max_features=1, min_samples_leaf=9;, score=0.828 total time=   5.7s\n",
      "[CV 4/5] END max_depth=5, max_features=1, min_samples_leaf=9;, score=0.826 total time=   6.1s\n",
      "[CV 2/5] END max_depth=5, max_features=1, min_samples_leaf=9;, score=0.834 total time=   6.5s\n",
      "[CV 3/5] END max_depth=5, max_features=2, min_samples_leaf=3;, score=0.827 total time=   5.5s\n",
      "[CV 4/5] END max_depth=5, max_features=2, min_samples_leaf=3;, score=0.826 total time=   5.8s\n",
      "[CV 2/5] END max_depth=5, max_features=2, min_samples_leaf=3;, score=0.834 total time=   6.4s\n",
      "[CV 1/5] END max_depth=5, max_features=2, min_samples_leaf=3;, score=0.823 total time=   7.0s\n",
      "[CV 5/5] END max_depth=5, max_features=2, min_samples_leaf=3;, score=0.832 total time=   7.0s\n",
      "[CV 2/5] END max_depth=5, max_features=2, min_samples_leaf=5;, score=0.834 total time=   6.5s\n",
      "[CV 1/5] END max_depth=5, max_features=2, min_samples_leaf=5;, score=0.823 total time=   7.6s\n",
      "[CV 3/5] END max_depth=5, max_features=2, min_samples_leaf=5;, score=0.827 total time=   7.0s\n",
      "[CV 4/5] END max_depth=5, max_features=2, min_samples_leaf=5;, score=0.826 total time=   6.5s\n",
      "[CV 1/5] END max_depth=5, max_features=2, min_samples_leaf=7;, score=0.823 total time=   5.8s\n",
      "[CV 5/5] END max_depth=5, max_features=2, min_samples_leaf=5;, score=0.832 total time=   6.6s\n",
      "[CV 2/5] END max_depth=5, max_features=2, min_samples_leaf=7;, score=0.834 total time=   6.9s\n",
      "[CV 4/5] END max_depth=5, max_features=2, min_samples_leaf=7;, score=0.826 total time=   5.2s\n",
      "[CV 1/5] END max_depth=5, max_features=2, min_samples_leaf=9;, score=0.823 total time=   6.0s\n",
      "[CV 3/5] END max_depth=5, max_features=2, min_samples_leaf=7;, score=0.826 total time=   7.1s\n",
      "[CV 3/5] END max_depth=5, max_features=2, min_samples_leaf=9;, score=0.827 total time=   6.5s\n",
      "[CV 2/5] END max_depth=5, max_features=2, min_samples_leaf=9;, score=0.834 total time=   7.0s\n",
      "[CV 4/5] END max_depth=5, max_features=2, min_samples_leaf=9;, score=0.826 total time=   6.4s\n",
      "[CV 5/5] END max_depth=5, max_features=2, min_samples_leaf=7;, score=0.832 total time=   7.8s\n",
      "[CV 5/5] END max_depth=5, max_features=2, min_samples_leaf=9;, score=0.832 total time=   7.5s\n",
      "[CV 1/5] END max_depth=5, max_features=4, min_samples_leaf=3;, score=0.821 total time=   8.9s\n",
      "[CV 2/5] END max_depth=5, max_features=4, min_samples_leaf=3;, score=0.833 total time=   9.5s\n",
      "[CV 3/5] END max_depth=5, max_features=4, min_samples_leaf=3;, score=0.825 total time=  10.0s\n",
      "[CV 4/5] END max_depth=5, max_features=4, min_samples_leaf=3;, score=0.824 total time=   9.7s\n",
      "[CV 5/5] END max_depth=5, max_features=4, min_samples_leaf=3;, score=0.828 total time=   9.7s\n",
      "[CV 2/5] END max_depth=5, max_features=4, min_samples_leaf=5;, score=0.833 total time=   9.7s\n",
      "[CV 3/5] END max_depth=5, max_features=4, min_samples_leaf=5;, score=0.825 total time=   8.2s\n",
      "[CV 1/5] END max_depth=5, max_features=4, min_samples_leaf=5;, score=0.821 total time=  10.4s\n",
      "[CV 4/5] END max_depth=5, max_features=4, min_samples_leaf=5;, score=0.824 total time=  10.6s\n",
      "[CV 1/5] END max_depth=5, max_features=4, min_samples_leaf=7;, score=0.821 total time=   9.6s\n",
      "[CV 3/5] END max_depth=5, max_features=4, min_samples_leaf=7;, score=0.825 total time=   9.5s\n",
      "[CV 5/5] END max_depth=5, max_features=4, min_samples_leaf=5;, score=0.828 total time=  10.9s\n",
      "[CV 5/5] END max_depth=5, max_features=4, min_samples_leaf=7;, score=0.828 total time=   9.1s\n",
      "[CV 2/5] END max_depth=5, max_features=4, min_samples_leaf=7;, score=0.833 total time=  10.2s\n",
      "[CV 1/5] END max_depth=5, max_features=4, min_samples_leaf=9;, score=0.821 total time=   9.2s\n",
      "[CV 4/5] END max_depth=5, max_features=4, min_samples_leaf=7;, score=0.824 total time=  10.0s\n",
      "[CV 2/5] END max_depth=5, max_features=4, min_samples_leaf=9;, score=0.833 total time=  11.4s\n",
      "[CV 3/5] END max_depth=5, max_features=4, min_samples_leaf=9;, score=0.825 total time=  10.1s\n",
      "[CV 1/5] END max_depth=10, max_features=1, min_samples_leaf=3;, score=0.830 total time=   9.6s\n",
      "[CV 2/5] END max_depth=10, max_features=1, min_samples_leaf=3;, score=0.839 total time=   9.6s\n",
      "[CV 4/5] END max_depth=5, max_features=4, min_samples_leaf=9;, score=0.824 total time=  10.1s\n",
      "[CV 3/5] END max_depth=10, max_features=1, min_samples_leaf=3;, score=0.833 total time=   9.7s\n",
      "[CV 5/5] END max_depth=5, max_features=4, min_samples_leaf=9;, score=0.828 total time=  10.2s\n",
      "[CV 4/5] END max_depth=10, max_features=1, min_samples_leaf=3;, score=0.833 total time=  10.0s\n",
      "[CV 5/5] END max_depth=10, max_features=1, min_samples_leaf=3;, score=0.838 total time=   6.9s\n",
      "[CV 3/5] END max_depth=10, max_features=1, min_samples_leaf=5;, score=0.833 total time=   7.6s\n",
      "[CV 1/5] END max_depth=10, max_features=1, min_samples_leaf=5;, score=0.831 total time=   8.4s\n",
      "[CV 2/5] END max_depth=10, max_features=1, min_samples_leaf=5;, score=0.839 total time=   8.3s\n",
      "[CV 5/5] END max_depth=10, max_features=1, min_samples_leaf=5;, score=0.839 total time=   8.2s\n",
      "[CV 2/5] END max_depth=10, max_features=1, min_samples_leaf=7;, score=0.839 total time=   8.0s\n",
      "[CV 1/5] END max_depth=10, max_features=1, min_samples_leaf=7;, score=0.831 total time=   9.0s\n",
      "[CV 4/5] END max_depth=10, max_features=1, min_samples_leaf=5;, score=0.834 total time=  10.0s\n",
      "[CV 3/5] END max_depth=10, max_features=1, min_samples_leaf=7;, score=0.834 total time=   7.4s\n",
      "[CV 5/5] END max_depth=10, max_features=1, min_samples_leaf=7;, score=0.839 total time=   6.8s\n",
      "[CV 4/5] END max_depth=10, max_features=1, min_samples_leaf=7;, score=0.834 total time=   9.0s\n",
      "[CV 4/5] END max_depth=10, max_features=1, min_samples_leaf=9;, score=0.834 total time=   7.6s\n",
      "[CV 2/5] END max_depth=10, max_features=1, min_samples_leaf=9;, score=0.839 total time=   8.7s\n",
      "[CV 3/5] END max_depth=10, max_features=1, min_samples_leaf=9;, score=0.834 total time=   8.7s\n",
      "[CV 1/5] END max_depth=10, max_features=1, min_samples_leaf=9;, score=0.830 total time=   9.7s\n",
      "[CV 5/5] END max_depth=10, max_features=1, min_samples_leaf=9;, score=0.839 total time=  10.1s\n",
      "[CV 2/5] END max_depth=10, max_features=2, min_samples_leaf=3;, score=0.839 total time=   9.7s\n",
      "[CV 1/5] END max_depth=10, max_features=2, min_samples_leaf=3;, score=0.830 total time=  12.1s\n",
      "[CV 3/5] END max_depth=10, max_features=2, min_samples_leaf=3;, score=0.833 total time=   9.2s\n",
      "[CV 5/5] END max_depth=10, max_features=2, min_samples_leaf=3;, score=0.838 total time=   9.9s\n",
      "[CV 3/5] END max_depth=10, max_features=2, min_samples_leaf=5;, score=0.834 total time=   7.1s\n",
      "[CV 4/5] END max_depth=10, max_features=2, min_samples_leaf=3;, score=0.833 total time=  10.7s\n",
      "[CV 1/5] END max_depth=10, max_features=2, min_samples_leaf=5;, score=0.831 total time=  10.6s\n",
      "[CV 2/5] END max_depth=10, max_features=2, min_samples_leaf=5;, score=0.840 total time=  10.5s\n",
      "[CV 5/5] END max_depth=10, max_features=2, min_samples_leaf=5;, score=0.839 total time=   7.9s\n",
      "[CV 4/5] END max_depth=10, max_features=2, min_samples_leaf=5;, score=0.833 total time=  10.7s\n",
      "[CV 3/5] END max_depth=10, max_features=2, min_samples_leaf=7;, score=0.834 total time=   9.3s\n",
      "[CV 4/5] END max_depth=10, max_features=2, min_samples_leaf=7;, score=0.834 total time=   9.8s\n",
      "[CV 1/5] END max_depth=10, max_features=2, min_samples_leaf=7;, score=0.831 total time=  12.0s\n",
      "[CV 2/5] END max_depth=10, max_features=2, min_samples_leaf=7;, score=0.840 total time=  11.4s\n",
      "[CV 1/5] END max_depth=10, max_features=2, min_samples_leaf=9;, score=0.831 total time=  11.3s\n",
      "[CV 5/5] END max_depth=10, max_features=2, min_samples_leaf=7;, score=0.839 total time=  12.9s\n",
      "[CV 3/5] END max_depth=10, max_features=2, min_samples_leaf=9;, score=0.834 total time=   9.1s\n",
      "[CV 2/5] END max_depth=10, max_features=2, min_samples_leaf=9;, score=0.841 total time=  12.0s\n",
      "[CV 2/5] END max_depth=10, max_features=4, min_samples_leaf=3;, score=0.838 total time=  11.0s\n",
      "[CV 5/5] END max_depth=10, max_features=2, min_samples_leaf=9;, score=0.839 total time=  12.0s\n",
      "[CV 4/5] END max_depth=10, max_features=2, min_samples_leaf=9;, score=0.834 total time=  13.0s\n",
      "[CV 1/5] END max_depth=10, max_features=4, min_samples_leaf=3;, score=0.830 total time=  17.0s\n",
      "[CV 3/5] END max_depth=10, max_features=4, min_samples_leaf=3;, score=0.833 total time=  16.8s\n",
      "[CV 4/5] END max_depth=10, max_features=4, min_samples_leaf=3;, score=0.832 total time=  17.9s\n",
      "[CV 5/5] END max_depth=10, max_features=4, min_samples_leaf=3;, score=0.839 total time=  16.0s\n",
      "[CV 1/5] END max_depth=10, max_features=4, min_samples_leaf=5;, score=0.831 total time=  16.0s\n",
      "[CV 4/5] END max_depth=10, max_features=4, min_samples_leaf=5;, score=0.832 total time=  16.4s\n",
      "[CV 2/5] END max_depth=10, max_features=4, min_samples_leaf=5;, score=0.840 total time=  18.9s\n",
      "[CV 3/5] END max_depth=10, max_features=4, min_samples_leaf=5;, score=0.834 total time=  19.1s\n",
      "[CV 5/5] END max_depth=10, max_features=4, min_samples_leaf=5;, score=0.839 total time=  17.1s\n",
      "[CV 1/5] END max_depth=10, max_features=4, min_samples_leaf=7;, score=0.830 total time=  15.8s\n",
      "[CV 2/5] END max_depth=10, max_features=4, min_samples_leaf=7;, score=0.840 total time=  17.2s\n",
      "[CV 3/5] END max_depth=10, max_features=4, min_samples_leaf=7;, score=0.834 total time=  16.2s\n",
      "[CV 4/5] END max_depth=10, max_features=4, min_samples_leaf=7;, score=0.833 total time=  17.5s\n",
      "[CV 1/5] END max_depth=10, max_features=4, min_samples_leaf=9;, score=0.831 total time=  14.3s\n",
      "[CV 2/5] END max_depth=10, max_features=4, min_samples_leaf=9;, score=0.840 total time=  14.3s\n",
      "[CV 1/5] END max_depth=15, max_features=1, min_samples_leaf=3;, score=0.829 total time=   6.7s\n",
      "[CV 5/5] END max_depth=10, max_features=4, min_samples_leaf=7;, score=0.839 total time=  18.2s\n",
      "[CV 2/5] END max_depth=15, max_features=1, min_samples_leaf=3;, score=0.836 total time=   9.3s\n",
      "[CV 4/5] END max_depth=10, max_features=4, min_samples_leaf=9;, score=0.834 total time=  16.7s\n",
      "[CV 3/5] END max_depth=10, max_features=4, min_samples_leaf=9;, score=0.835 total time=  17.2s\n",
      "[CV 5/5] END max_depth=10, max_features=4, min_samples_leaf=9;, score=0.839 total time=  14.1s\n",
      "[CV 5/5] END max_depth=15, max_features=1, min_samples_leaf=3;, score=0.832 total time=   8.5s\n",
      "[CV 4/5] END max_depth=15, max_features=1, min_samples_leaf=3;, score=0.828 total time=  11.5s\n",
      "[CV 3/5] END max_depth=15, max_features=1, min_samples_leaf=3;, score=0.828 total time=  12.3s\n",
      "[CV 1/5] END max_depth=15, max_features=1, min_samples_leaf=5;, score=0.830 total time=  10.8s\n",
      "[CV 2/5] END max_depth=15, max_features=1, min_samples_leaf=5;, score=0.837 total time=   8.8s\n",
      "[CV 5/5] END max_depth=15, max_features=1, min_samples_leaf=5;, score=0.835 total time=   7.4s\n",
      "[CV 3/5] END max_depth=15, max_features=1, min_samples_leaf=5;, score=0.830 total time=   9.6s\n",
      "[CV 4/5] END max_depth=15, max_features=1, min_samples_leaf=5;, score=0.830 total time=  11.2s\n",
      "[CV 1/5] END max_depth=15, max_features=1, min_samples_leaf=7;, score=0.831 total time=  10.3s\n",
      "[CV 2/5] END max_depth=15, max_features=1, min_samples_leaf=7;, score=0.838 total time=   8.8s\n",
      "[CV 3/5] END max_depth=15, max_features=1, min_samples_leaf=7;, score=0.831 total time=  10.5s\n",
      "[CV 1/5] END max_depth=15, max_features=1, min_samples_leaf=9;, score=0.831 total time=   8.0s\n",
      "[CV 5/5] END max_depth=15, max_features=1, min_samples_leaf=7;, score=0.836 total time=   8.9s\n",
      "[CV 2/5] END max_depth=15, max_features=1, min_samples_leaf=9;, score=0.837 total time=   9.6s\n",
      "[CV 4/5] END max_depth=15, max_features=1, min_samples_leaf=7;, score=0.832 total time=  13.1s\n",
      "[CV 3/5] END max_depth=15, max_features=1, min_samples_leaf=9;, score=0.833 total time=   9.9s\n",
      "[CV 5/5] END max_depth=15, max_features=1, min_samples_leaf=9;, score=0.835 total time=  10.5s\n",
      "[CV 4/5] END max_depth=15, max_features=1, min_samples_leaf=9;, score=0.832 total time=  13.1s\n",
      "[CV 1/5] END max_depth=15, max_features=2, min_samples_leaf=3;, score=0.827 total time=  11.0s\n",
      "[CV 2/5] END max_depth=15, max_features=2, min_samples_leaf=3;, score=0.834 total time=  11.1s\n",
      "[CV 4/5] END max_depth=15, max_features=2, min_samples_leaf=3;, score=0.827 total time=  10.7s\n",
      "[CV 3/5] END max_depth=15, max_features=2, min_samples_leaf=3;, score=0.827 total time=  13.2s\n",
      "[CV 5/5] END max_depth=15, max_features=2, min_samples_leaf=3;, score=0.832 total time=  12.0s\n",
      "[CV 1/5] END max_depth=15, max_features=2, min_samples_leaf=5;, score=0.830 total time=  10.5s\n",
      "[CV 2/5] END max_depth=15, max_features=2, min_samples_leaf=5;, score=0.837 total time=  12.4s\n",
      "[CV 3/5] END max_depth=15, max_features=2, min_samples_leaf=5;, score=0.829 total time=  14.4s\n",
      "[CV 4/5] END max_depth=15, max_features=2, min_samples_leaf=5;, score=0.829 total time=  14.3s\n",
      "[CV 1/5] END max_depth=15, max_features=2, min_samples_leaf=7;, score=0.830 total time=  12.2s\n",
      "[CV 5/5] END max_depth=15, max_features=2, min_samples_leaf=5;, score=0.833 total time=  14.6s\n",
      "[CV 2/5] END max_depth=15, max_features=2, min_samples_leaf=7;, score=0.837 total time=  12.7s\n",
      "[CV 3/5] END max_depth=15, max_features=2, min_samples_leaf=7;, score=0.830 total time=  11.5s\n",
      "[CV 4/5] END max_depth=15, max_features=2, min_samples_leaf=7;, score=0.830 total time=  13.2s\n",
      "[CV 5/5] END max_depth=15, max_features=2, min_samples_leaf=7;, score=0.835 total time=   9.7s\n",
      "[CV 1/5] END max_depth=15, max_features=2, min_samples_leaf=9;, score=0.830 total time=  10.3s\n",
      "[CV 3/5] END max_depth=15, max_features=2, min_samples_leaf=9;, score=0.831 total time=  14.1s\n",
      "[CV 2/5] END max_depth=15, max_features=2, min_samples_leaf=9;, score=0.839 total time=  14.4s\n",
      "[CV 4/5] END max_depth=15, max_features=2, min_samples_leaf=9;, score=0.832 total time=  14.4s\n",
      "[CV 5/5] END max_depth=15, max_features=2, min_samples_leaf=9;, score=0.835 total time=  14.3s\n",
      "[CV 1/5] END max_depth=15, max_features=4, min_samples_leaf=3;, score=0.825 total time=  17.2s\n",
      "[CV 2/5] END max_depth=15, max_features=4, min_samples_leaf=3;, score=0.831 total time=  15.8s\n",
      "[CV 3/5] END max_depth=15, max_features=4, min_samples_leaf=3;, score=0.825 total time=  17.5s\n",
      "[CV 4/5] END max_depth=15, max_features=4, min_samples_leaf=3;, score=0.823 total time=  16.9s\n",
      "[CV 1/5] END max_depth=15, max_features=4, min_samples_leaf=5;, score=0.828 total time=  18.8s\n",
      "[CV 2/5] END max_depth=15, max_features=4, min_samples_leaf=5;, score=0.833 total time=  18.7s\n",
      "[CV 3/5] END max_depth=15, max_features=4, min_samples_leaf=5;, score=0.827 total time=  20.3s\n",
      "[CV 4/5] END max_depth=15, max_features=4, min_samples_leaf=5;, score=0.825 total time=  17.8s\n",
      "[CV 5/5] END max_depth=15, max_features=4, min_samples_leaf=3;, score=0.829 total time=  25.1s\n",
      "[CV 5/5] END max_depth=15, max_features=4, min_samples_leaf=5;, score=0.830 total time=  20.9s\n",
      "[CV 2/5] END max_depth=15, max_features=4, min_samples_leaf=7;, score=0.834 total time=  19.4s\n",
      "[CV 1/5] END max_depth=15, max_features=4, min_samples_leaf=7;, score=0.828 total time=  22.8s\n",
      "[CV 5/5] END max_depth=15, max_features=4, min_samples_leaf=7;, score=0.832 total time=  14.2s\n",
      "[CV 3/5] END max_depth=15, max_features=4, min_samples_leaf=7;, score=0.829 total time=  18.5s\n",
      "[CV 1/5] END max_depth=15, max_features=4, min_samples_leaf=9;, score=0.829 total time=  17.7s\n",
      "[CV 2/5] END max_depth=15, max_features=4, min_samples_leaf=9;, score=0.836 total time=  16.1s\n",
      "[CV 4/5] END max_depth=15, max_features=4, min_samples_leaf=7;, score=0.827 total time=  22.1s\n",
      "[CV 3/5] END max_depth=15, max_features=4, min_samples_leaf=9;, score=0.830 total time=  16.0s\n",
      "[CV 5/5] END max_depth=15, max_features=4, min_samples_leaf=9;, score=0.833 total time=  10.9s\n",
      "[CV 4/5] END max_depth=15, max_features=4, min_samples_leaf=9;, score=0.829 total time=  11.6s\n"
     ]
    },
    {
     "data": {
      "text/html": [
       "<style>#sk-container-id-11 {color: black;background-color: white;}#sk-container-id-11 pre{padding: 0;}#sk-container-id-11 div.sk-toggleable {background-color: white;}#sk-container-id-11 label.sk-toggleable__label {cursor: pointer;display: block;width: 100%;margin-bottom: 0;padding: 0.3em;box-sizing: border-box;text-align: center;}#sk-container-id-11 label.sk-toggleable__label-arrow:before {content: \"▸\";float: left;margin-right: 0.25em;color: #696969;}#sk-container-id-11 label.sk-toggleable__label-arrow:hover:before {color: black;}#sk-container-id-11 div.sk-estimator:hover label.sk-toggleable__label-arrow:before {color: black;}#sk-container-id-11 div.sk-toggleable__content {max-height: 0;max-width: 0;overflow: hidden;text-align: left;background-color: #f0f8ff;}#sk-container-id-11 div.sk-toggleable__content pre {margin: 0.2em;color: black;border-radius: 0.25em;background-color: #f0f8ff;}#sk-container-id-11 input.sk-toggleable__control:checked~div.sk-toggleable__content {max-height: 200px;max-width: 100%;overflow: auto;}#sk-container-id-11 input.sk-toggleable__control:checked~label.sk-toggleable__label-arrow:before {content: \"▾\";}#sk-container-id-11 div.sk-estimator input.sk-toggleable__control:checked~label.sk-toggleable__label {background-color: #d4ebff;}#sk-container-id-11 div.sk-label input.sk-toggleable__control:checked~label.sk-toggleable__label {background-color: #d4ebff;}#sk-container-id-11 input.sk-hidden--visually {border: 0;clip: rect(1px 1px 1px 1px);clip: rect(1px, 1px, 1px, 1px);height: 1px;margin: -1px;overflow: hidden;padding: 0;position: absolute;width: 1px;}#sk-container-id-11 div.sk-estimator {font-family: monospace;background-color: #f0f8ff;border: 1px dotted black;border-radius: 0.25em;box-sizing: border-box;margin-bottom: 0.5em;}#sk-container-id-11 div.sk-estimator:hover {background-color: #d4ebff;}#sk-container-id-11 div.sk-parallel-item::after {content: \"\";width: 100%;border-bottom: 1px solid gray;flex-grow: 1;}#sk-container-id-11 div.sk-label:hover label.sk-toggleable__label {background-color: #d4ebff;}#sk-container-id-11 div.sk-serial::before {content: \"\";position: absolute;border-left: 1px solid gray;box-sizing: border-box;top: 0;bottom: 0;left: 50%;z-index: 0;}#sk-container-id-11 div.sk-serial {display: flex;flex-direction: column;align-items: center;background-color: white;padding-right: 0.2em;padding-left: 0.2em;position: relative;}#sk-container-id-11 div.sk-item {position: relative;z-index: 1;}#sk-container-id-11 div.sk-parallel {display: flex;align-items: stretch;justify-content: center;background-color: white;position: relative;}#sk-container-id-11 div.sk-item::before, #sk-container-id-11 div.sk-parallel-item::before {content: \"\";position: absolute;border-left: 1px solid gray;box-sizing: border-box;top: 0;bottom: 0;left: 50%;z-index: -1;}#sk-container-id-11 div.sk-parallel-item {display: flex;flex-direction: column;z-index: 1;position: relative;background-color: white;}#sk-container-id-11 div.sk-parallel-item:first-child::after {align-self: flex-end;width: 50%;}#sk-container-id-11 div.sk-parallel-item:last-child::after {align-self: flex-start;width: 50%;}#sk-container-id-11 div.sk-parallel-item:only-child::after {width: 0;}#sk-container-id-11 div.sk-dashed-wrapped {border: 1px dashed gray;margin: 0 0.4em 0.5em 0.4em;box-sizing: border-box;padding-bottom: 0.4em;background-color: white;}#sk-container-id-11 div.sk-label label {font-family: monospace;font-weight: bold;display: inline-block;line-height: 1.2em;}#sk-container-id-11 div.sk-label-container {text-align: center;}#sk-container-id-11 div.sk-container {/* jupyter's `normalize.less` sets `[hidden] { display: none; }` but bootstrap.min.css set `[hidden] { display: none !important; }` so we also need the `!important` here to be able to override the default hidden behavior on the sphinx rendered scikit-learn.org. See: https://github.com/scikit-learn/scikit-learn/issues/21755 */display: inline-block !important;position: relative;}#sk-container-id-11 div.sk-text-repr-fallback {display: none;}</style><div id=\"sk-container-id-11\" class=\"sk-top-container\"><div class=\"sk-text-repr-fallback\"><pre>GridSearchCV(cv=StratifiedKFold(n_splits=5, random_state=5, shuffle=True),\n",
       "             estimator=RandomForestClassifier(class_weight=&#x27;balanced&#x27;,\n",
       "                                              n_jobs=-1, random_state=42),\n",
       "             n_jobs=-1,\n",
       "             param_grid={&#x27;max_depth&#x27;: [5, 10, 15], &#x27;max_features&#x27;: [1, 2, 4],\n",
       "                         &#x27;min_samples_leaf&#x27;: [3, 5, 7, 9]},\n",
       "             scoring=&#x27;roc_auc&#x27;, verbose=3)</pre><b>In a Jupyter environment, please rerun this cell to show the HTML representation or trust the notebook. <br />On GitHub, the HTML representation is unable to render, please try loading this page with nbviewer.org.</b></div><div class=\"sk-container\" hidden><div class=\"sk-item sk-dashed-wrapped\"><div class=\"sk-label-container\"><div class=\"sk-label sk-toggleable\"><input class=\"sk-toggleable__control sk-hidden--visually\" id=\"sk-estimator-id-19\" type=\"checkbox\" ><label for=\"sk-estimator-id-19\" class=\"sk-toggleable__label sk-toggleable__label-arrow\">GridSearchCV</label><div class=\"sk-toggleable__content\"><pre>GridSearchCV(cv=StratifiedKFold(n_splits=5, random_state=5, shuffle=True),\n",
       "             estimator=RandomForestClassifier(class_weight=&#x27;balanced&#x27;,\n",
       "                                              n_jobs=-1, random_state=42),\n",
       "             n_jobs=-1,\n",
       "             param_grid={&#x27;max_depth&#x27;: [5, 10, 15], &#x27;max_features&#x27;: [1, 2, 4],\n",
       "                         &#x27;min_samples_leaf&#x27;: [3, 5, 7, 9]},\n",
       "             scoring=&#x27;roc_auc&#x27;, verbose=3)</pre></div></div></div><div class=\"sk-parallel\"><div class=\"sk-parallel-item\"><div class=\"sk-item\"><div class=\"sk-label-container\"><div class=\"sk-label sk-toggleable\"><input class=\"sk-toggleable__control sk-hidden--visually\" id=\"sk-estimator-id-20\" type=\"checkbox\" ><label for=\"sk-estimator-id-20\" class=\"sk-toggleable__label sk-toggleable__label-arrow\">estimator: RandomForestClassifier</label><div class=\"sk-toggleable__content\"><pre>RandomForestClassifier(class_weight=&#x27;balanced&#x27;, n_jobs=-1, random_state=42)</pre></div></div></div><div class=\"sk-serial\"><div class=\"sk-item\"><div class=\"sk-estimator sk-toggleable\"><input class=\"sk-toggleable__control sk-hidden--visually\" id=\"sk-estimator-id-21\" type=\"checkbox\" ><label for=\"sk-estimator-id-21\" class=\"sk-toggleable__label sk-toggleable__label-arrow\">RandomForestClassifier</label><div class=\"sk-toggleable__content\"><pre>RandomForestClassifier(class_weight=&#x27;balanced&#x27;, n_jobs=-1, random_state=42)</pre></div></div></div></div></div></div></div></div></div></div>"
      ],
      "text/plain": [
       "GridSearchCV(cv=StratifiedKFold(n_splits=5, random_state=5, shuffle=True),\n",
       "             estimator=RandomForestClassifier(class_weight='balanced',\n",
       "                                              n_jobs=-1, random_state=42),\n",
       "             n_jobs=-1,\n",
       "             param_grid={'max_depth': [5, 10, 15], 'max_features': [1, 2, 4],\n",
       "                         'min_samples_leaf': [3, 5, 7, 9]},\n",
       "             scoring='roc_auc', verbose=3)"
      ]
     },
     "execution_count": 65,
     "metadata": {},
     "output_type": "execute_result"
    }
   ],
   "source": [
    "best_rf = GridSearchCV(rf, parameters, scoring=\"roc_auc\", verbose=3, cv=skf, n_jobs=-1)\n",
    "best_rf.fit(X, y)"
   ]
  },
  {
   "cell_type": "code",
   "execution_count": 90,
   "metadata": {},
   "outputs": [
    {
     "data": {
      "text/html": [
       "<style>#sk-container-id-13 {color: black;background-color: white;}#sk-container-id-13 pre{padding: 0;}#sk-container-id-13 div.sk-toggleable {background-color: white;}#sk-container-id-13 label.sk-toggleable__label {cursor: pointer;display: block;width: 100%;margin-bottom: 0;padding: 0.3em;box-sizing: border-box;text-align: center;}#sk-container-id-13 label.sk-toggleable__label-arrow:before {content: \"▸\";float: left;margin-right: 0.25em;color: #696969;}#sk-container-id-13 label.sk-toggleable__label-arrow:hover:before {color: black;}#sk-container-id-13 div.sk-estimator:hover label.sk-toggleable__label-arrow:before {color: black;}#sk-container-id-13 div.sk-toggleable__content {max-height: 0;max-width: 0;overflow: hidden;text-align: left;background-color: #f0f8ff;}#sk-container-id-13 div.sk-toggleable__content pre {margin: 0.2em;color: black;border-radius: 0.25em;background-color: #f0f8ff;}#sk-container-id-13 input.sk-toggleable__control:checked~div.sk-toggleable__content {max-height: 200px;max-width: 100%;overflow: auto;}#sk-container-id-13 input.sk-toggleable__control:checked~label.sk-toggleable__label-arrow:before {content: \"▾\";}#sk-container-id-13 div.sk-estimator input.sk-toggleable__control:checked~label.sk-toggleable__label {background-color: #d4ebff;}#sk-container-id-13 div.sk-label input.sk-toggleable__control:checked~label.sk-toggleable__label {background-color: #d4ebff;}#sk-container-id-13 input.sk-hidden--visually {border: 0;clip: rect(1px 1px 1px 1px);clip: rect(1px, 1px, 1px, 1px);height: 1px;margin: -1px;overflow: hidden;padding: 0;position: absolute;width: 1px;}#sk-container-id-13 div.sk-estimator {font-family: monospace;background-color: #f0f8ff;border: 1px dotted black;border-radius: 0.25em;box-sizing: border-box;margin-bottom: 0.5em;}#sk-container-id-13 div.sk-estimator:hover {background-color: #d4ebff;}#sk-container-id-13 div.sk-parallel-item::after {content: \"\";width: 100%;border-bottom: 1px solid gray;flex-grow: 1;}#sk-container-id-13 div.sk-label:hover label.sk-toggleable__label {background-color: #d4ebff;}#sk-container-id-13 div.sk-serial::before {content: \"\";position: absolute;border-left: 1px solid gray;box-sizing: border-box;top: 0;bottom: 0;left: 50%;z-index: 0;}#sk-container-id-13 div.sk-serial {display: flex;flex-direction: column;align-items: center;background-color: white;padding-right: 0.2em;padding-left: 0.2em;position: relative;}#sk-container-id-13 div.sk-item {position: relative;z-index: 1;}#sk-container-id-13 div.sk-parallel {display: flex;align-items: stretch;justify-content: center;background-color: white;position: relative;}#sk-container-id-13 div.sk-item::before, #sk-container-id-13 div.sk-parallel-item::before {content: \"\";position: absolute;border-left: 1px solid gray;box-sizing: border-box;top: 0;bottom: 0;left: 50%;z-index: -1;}#sk-container-id-13 div.sk-parallel-item {display: flex;flex-direction: column;z-index: 1;position: relative;background-color: white;}#sk-container-id-13 div.sk-parallel-item:first-child::after {align-self: flex-end;width: 50%;}#sk-container-id-13 div.sk-parallel-item:last-child::after {align-self: flex-start;width: 50%;}#sk-container-id-13 div.sk-parallel-item:only-child::after {width: 0;}#sk-container-id-13 div.sk-dashed-wrapped {border: 1px dashed gray;margin: 0 0.4em 0.5em 0.4em;box-sizing: border-box;padding-bottom: 0.4em;background-color: white;}#sk-container-id-13 div.sk-label label {font-family: monospace;font-weight: bold;display: inline-block;line-height: 1.2em;}#sk-container-id-13 div.sk-label-container {text-align: center;}#sk-container-id-13 div.sk-container {/* jupyter's `normalize.less` sets `[hidden] { display: none; }` but bootstrap.min.css set `[hidden] { display: none !important; }` so we also need the `!important` here to be able to override the default hidden behavior on the sphinx rendered scikit-learn.org. See: https://github.com/scikit-learn/scikit-learn/issues/21755 */display: inline-block !important;position: relative;}#sk-container-id-13 div.sk-text-repr-fallback {display: none;}</style><div id=\"sk-container-id-13\" class=\"sk-top-container\"><div class=\"sk-text-repr-fallback\"><pre>RandomForestClassifier(class_weight=&#x27;balanced&#x27;, max_depth=10, max_features=2,\n",
       "                       min_samples_leaf=9, n_jobs=-1, random_state=42)</pre><b>In a Jupyter environment, please rerun this cell to show the HTML representation or trust the notebook. <br />On GitHub, the HTML representation is unable to render, please try loading this page with nbviewer.org.</b></div><div class=\"sk-container\" hidden><div class=\"sk-item\"><div class=\"sk-estimator sk-toggleable\"><input class=\"sk-toggleable__control sk-hidden--visually\" id=\"sk-estimator-id-23\" type=\"checkbox\" checked><label for=\"sk-estimator-id-23\" class=\"sk-toggleable__label sk-toggleable__label-arrow\">RandomForestClassifier</label><div class=\"sk-toggleable__content\"><pre>RandomForestClassifier(class_weight=&#x27;balanced&#x27;, max_depth=10, max_features=2,\n",
       "                       min_samples_leaf=9, n_jobs=-1, random_state=42)</pre></div></div></div></div></div>"
      ],
      "text/plain": [
       "RandomForestClassifier(class_weight='balanced', max_depth=10, max_features=2,\n",
       "                       min_samples_leaf=9, n_jobs=-1, random_state=42)"
      ]
     },
     "execution_count": 90,
     "metadata": {},
     "output_type": "execute_result"
    }
   ],
   "source": [
    "best_rf.best_estimator_"
   ]
  },
  {
   "cell_type": "code",
   "execution_count": 69,
   "metadata": {},
   "outputs": [
    {
     "data": {
      "text/plain": [
       "2.6866475306627002"
      ]
     },
     "execution_count": 69,
     "metadata": {},
     "output_type": "execute_result"
    }
   ],
   "source": [
    "(best_rf.best_score_ - best_roc_auc)*100"
   ]
  },
  {
   "cell_type": "markdown",
   "metadata": {
    "_uuid": "8be735e7919d87d06dd627ec1885d0ef72f032e0"
   },
   "source": [
    "**Question 9.** What feature has the weakest impact in the Random Forest model?\n",
    "\n",
    "1. age\n",
    "2. NumberOfTime30-59DaysPastDueNotWorse\n",
    "3. DebtRatio\n",
    "4. NumberOfTimes90DaysLate\n",
    "5. NumberOfTime60-89DaysPastDueNotWorse\n",
    "6. MonthlyIncome\n",
    "7. NumberOfDependents"
   ]
  },
  {
   "cell_type": "code",
   "execution_count": 89,
   "metadata": {
    "_uuid": "bbb93f0ced33c8a65894bfd0bb26c5fbe534394c",
    "collapsed": true
   },
   "outputs": [
    {
     "name": "stdout",
     "output_type": "stream",
     "text": [
      "age : 0.11585997056226441\n",
      "NumberOfTime30-59DaysPastDueNotWorse : 0.30028969376807063\n",
      "DebtRatio : 0.07608169617700287\n",
      "NumberOfTimes90DaysLate : 0.2787490219341072\n",
      "NumberOfTime60-89DaysPastDueNotWorse : 0.15653441905757823\n",
      "MonthlyIncome : 0.05799434883157417\n",
      "NumberOfDependents : 0.014490849669402424\n"
     ]
    }
   ],
   "source": [
    "for coef, name in zip(best_rf.best_estimator_.feature_importances_, independent_columns_names):\n",
    "    print(name, \":\", coef)"
   ]
  },
  {
   "cell_type": "markdown",
   "metadata": {
    "_uuid": "6b4e8cf8f503365cf8d877a8bca477b53ec0bd81"
   },
   "source": [
    "**Question 10.** What is the most significant advantage of using *Logistic Regression* versus *Random Forest* for this problem?\n",
    "\n",
    "1. Spent less time for model fitting;\n",
    "2. Fewer variables to iterate;\n",
    "3. Feature interpretability;\n",
    "4. Linear properties of the algorithm."
   ]
  },
  {
   "cell_type": "code",
   "execution_count": 91,
   "metadata": {},
   "outputs": [
    {
     "data": {
      "text/html": [
       "<style>#sk-container-id-14 {color: black;background-color: white;}#sk-container-id-14 pre{padding: 0;}#sk-container-id-14 div.sk-toggleable {background-color: white;}#sk-container-id-14 label.sk-toggleable__label {cursor: pointer;display: block;width: 100%;margin-bottom: 0;padding: 0.3em;box-sizing: border-box;text-align: center;}#sk-container-id-14 label.sk-toggleable__label-arrow:before {content: \"▸\";float: left;margin-right: 0.25em;color: #696969;}#sk-container-id-14 label.sk-toggleable__label-arrow:hover:before {color: black;}#sk-container-id-14 div.sk-estimator:hover label.sk-toggleable__label-arrow:before {color: black;}#sk-container-id-14 div.sk-toggleable__content {max-height: 0;max-width: 0;overflow: hidden;text-align: left;background-color: #f0f8ff;}#sk-container-id-14 div.sk-toggleable__content pre {margin: 0.2em;color: black;border-radius: 0.25em;background-color: #f0f8ff;}#sk-container-id-14 input.sk-toggleable__control:checked~div.sk-toggleable__content {max-height: 200px;max-width: 100%;overflow: auto;}#sk-container-id-14 input.sk-toggleable__control:checked~label.sk-toggleable__label-arrow:before {content: \"▾\";}#sk-container-id-14 div.sk-estimator input.sk-toggleable__control:checked~label.sk-toggleable__label {background-color: #d4ebff;}#sk-container-id-14 div.sk-label input.sk-toggleable__control:checked~label.sk-toggleable__label {background-color: #d4ebff;}#sk-container-id-14 input.sk-hidden--visually {border: 0;clip: rect(1px 1px 1px 1px);clip: rect(1px, 1px, 1px, 1px);height: 1px;margin: -1px;overflow: hidden;padding: 0;position: absolute;width: 1px;}#sk-container-id-14 div.sk-estimator {font-family: monospace;background-color: #f0f8ff;border: 1px dotted black;border-radius: 0.25em;box-sizing: border-box;margin-bottom: 0.5em;}#sk-container-id-14 div.sk-estimator:hover {background-color: #d4ebff;}#sk-container-id-14 div.sk-parallel-item::after {content: \"\";width: 100%;border-bottom: 1px solid gray;flex-grow: 1;}#sk-container-id-14 div.sk-label:hover label.sk-toggleable__label {background-color: #d4ebff;}#sk-container-id-14 div.sk-serial::before {content: \"\";position: absolute;border-left: 1px solid gray;box-sizing: border-box;top: 0;bottom: 0;left: 50%;z-index: 0;}#sk-container-id-14 div.sk-serial {display: flex;flex-direction: column;align-items: center;background-color: white;padding-right: 0.2em;padding-left: 0.2em;position: relative;}#sk-container-id-14 div.sk-item {position: relative;z-index: 1;}#sk-container-id-14 div.sk-parallel {display: flex;align-items: stretch;justify-content: center;background-color: white;position: relative;}#sk-container-id-14 div.sk-item::before, #sk-container-id-14 div.sk-parallel-item::before {content: \"\";position: absolute;border-left: 1px solid gray;box-sizing: border-box;top: 0;bottom: 0;left: 50%;z-index: -1;}#sk-container-id-14 div.sk-parallel-item {display: flex;flex-direction: column;z-index: 1;position: relative;background-color: white;}#sk-container-id-14 div.sk-parallel-item:first-child::after {align-self: flex-end;width: 50%;}#sk-container-id-14 div.sk-parallel-item:last-child::after {align-self: flex-start;width: 50%;}#sk-container-id-14 div.sk-parallel-item:only-child::after {width: 0;}#sk-container-id-14 div.sk-dashed-wrapped {border: 1px dashed gray;margin: 0 0.4em 0.5em 0.4em;box-sizing: border-box;padding-bottom: 0.4em;background-color: white;}#sk-container-id-14 div.sk-label label {font-family: monospace;font-weight: bold;display: inline-block;line-height: 1.2em;}#sk-container-id-14 div.sk-label-container {text-align: center;}#sk-container-id-14 div.sk-container {/* jupyter's `normalize.less` sets `[hidden] { display: none; }` but bootstrap.min.css set `[hidden] { display: none !important; }` so we also need the `!important` here to be able to override the default hidden behavior on the sphinx rendered scikit-learn.org. See: https://github.com/scikit-learn/scikit-learn/issues/21755 */display: inline-block !important;position: relative;}#sk-container-id-14 div.sk-text-repr-fallback {display: none;}</style><div id=\"sk-container-id-14\" class=\"sk-top-container\"><div class=\"sk-text-repr-fallback\"><pre>RandomForestClassifier(class_weight=&#x27;balanced&#x27;, max_depth=10, max_features=2,\n",
       "                       min_samples_leaf=9, n_jobs=-1, random_state=42)</pre><b>In a Jupyter environment, please rerun this cell to show the HTML representation or trust the notebook. <br />On GitHub, the HTML representation is unable to render, please try loading this page with nbviewer.org.</b></div><div class=\"sk-container\" hidden><div class=\"sk-item\"><div class=\"sk-estimator sk-toggleable\"><input class=\"sk-toggleable__control sk-hidden--visually\" id=\"sk-estimator-id-24\" type=\"checkbox\" checked><label for=\"sk-estimator-id-24\" class=\"sk-toggleable__label sk-toggleable__label-arrow\">RandomForestClassifier</label><div class=\"sk-toggleable__content\"><pre>RandomForestClassifier(class_weight=&#x27;balanced&#x27;, max_depth=10, max_features=2,\n",
       "                       min_samples_leaf=9, n_jobs=-1, random_state=42)</pre></div></div></div></div></div>"
      ],
      "text/plain": [
       "RandomForestClassifier(class_weight='balanced', max_depth=10, max_features=2,\n",
       "                       min_samples_leaf=9, n_jobs=-1, random_state=42)"
      ]
     },
     "execution_count": 91,
     "metadata": {},
     "output_type": "execute_result"
    }
   ],
   "source": [
    "rf = RandomForestClassifier(n_estimators=100, n_jobs=-1, random_state=42, max_depth=10, max_features=2,\n",
    "                       min_samples_leaf=9, class_weight='balanced')\n",
    "\n",
    "rf.fit(X, y)"
   ]
  },
  {
   "cell_type": "code",
   "execution_count": 92,
   "metadata": {},
   "outputs": [
    {
     "data": {
      "text/html": [
       "<style>#sk-container-id-15 {color: black;background-color: white;}#sk-container-id-15 pre{padding: 0;}#sk-container-id-15 div.sk-toggleable {background-color: white;}#sk-container-id-15 label.sk-toggleable__label {cursor: pointer;display: block;width: 100%;margin-bottom: 0;padding: 0.3em;box-sizing: border-box;text-align: center;}#sk-container-id-15 label.sk-toggleable__label-arrow:before {content: \"▸\";float: left;margin-right: 0.25em;color: #696969;}#sk-container-id-15 label.sk-toggleable__label-arrow:hover:before {color: black;}#sk-container-id-15 div.sk-estimator:hover label.sk-toggleable__label-arrow:before {color: black;}#sk-container-id-15 div.sk-toggleable__content {max-height: 0;max-width: 0;overflow: hidden;text-align: left;background-color: #f0f8ff;}#sk-container-id-15 div.sk-toggleable__content pre {margin: 0.2em;color: black;border-radius: 0.25em;background-color: #f0f8ff;}#sk-container-id-15 input.sk-toggleable__control:checked~div.sk-toggleable__content {max-height: 200px;max-width: 100%;overflow: auto;}#sk-container-id-15 input.sk-toggleable__control:checked~label.sk-toggleable__label-arrow:before {content: \"▾\";}#sk-container-id-15 div.sk-estimator input.sk-toggleable__control:checked~label.sk-toggleable__label {background-color: #d4ebff;}#sk-container-id-15 div.sk-label input.sk-toggleable__control:checked~label.sk-toggleable__label {background-color: #d4ebff;}#sk-container-id-15 input.sk-hidden--visually {border: 0;clip: rect(1px 1px 1px 1px);clip: rect(1px, 1px, 1px, 1px);height: 1px;margin: -1px;overflow: hidden;padding: 0;position: absolute;width: 1px;}#sk-container-id-15 div.sk-estimator {font-family: monospace;background-color: #f0f8ff;border: 1px dotted black;border-radius: 0.25em;box-sizing: border-box;margin-bottom: 0.5em;}#sk-container-id-15 div.sk-estimator:hover {background-color: #d4ebff;}#sk-container-id-15 div.sk-parallel-item::after {content: \"\";width: 100%;border-bottom: 1px solid gray;flex-grow: 1;}#sk-container-id-15 div.sk-label:hover label.sk-toggleable__label {background-color: #d4ebff;}#sk-container-id-15 div.sk-serial::before {content: \"\";position: absolute;border-left: 1px solid gray;box-sizing: border-box;top: 0;bottom: 0;left: 50%;z-index: 0;}#sk-container-id-15 div.sk-serial {display: flex;flex-direction: column;align-items: center;background-color: white;padding-right: 0.2em;padding-left: 0.2em;position: relative;}#sk-container-id-15 div.sk-item {position: relative;z-index: 1;}#sk-container-id-15 div.sk-parallel {display: flex;align-items: stretch;justify-content: center;background-color: white;position: relative;}#sk-container-id-15 div.sk-item::before, #sk-container-id-15 div.sk-parallel-item::before {content: \"\";position: absolute;border-left: 1px solid gray;box-sizing: border-box;top: 0;bottom: 0;left: 50%;z-index: -1;}#sk-container-id-15 div.sk-parallel-item {display: flex;flex-direction: column;z-index: 1;position: relative;background-color: white;}#sk-container-id-15 div.sk-parallel-item:first-child::after {align-self: flex-end;width: 50%;}#sk-container-id-15 div.sk-parallel-item:last-child::after {align-self: flex-start;width: 50%;}#sk-container-id-15 div.sk-parallel-item:only-child::after {width: 0;}#sk-container-id-15 div.sk-dashed-wrapped {border: 1px dashed gray;margin: 0 0.4em 0.5em 0.4em;box-sizing: border-box;padding-bottom: 0.4em;background-color: white;}#sk-container-id-15 div.sk-label label {font-family: monospace;font-weight: bold;display: inline-block;line-height: 1.2em;}#sk-container-id-15 div.sk-label-container {text-align: center;}#sk-container-id-15 div.sk-container {/* jupyter's `normalize.less` sets `[hidden] { display: none; }` but bootstrap.min.css set `[hidden] { display: none !important; }` so we also need the `!important` here to be able to override the default hidden behavior on the sphinx rendered scikit-learn.org. See: https://github.com/scikit-learn/scikit-learn/issues/21755 */display: inline-block !important;position: relative;}#sk-container-id-15 div.sk-text-repr-fallback {display: none;}</style><div id=\"sk-container-id-15\" class=\"sk-top-container\"><div class=\"sk-text-repr-fallback\"><pre>LogisticRegression(C=0.001, class_weight=&#x27;balanced&#x27;, random_state=5)</pre><b>In a Jupyter environment, please rerun this cell to show the HTML representation or trust the notebook. <br />On GitHub, the HTML representation is unable to render, please try loading this page with nbviewer.org.</b></div><div class=\"sk-container\" hidden><div class=\"sk-item\"><div class=\"sk-estimator sk-toggleable\"><input class=\"sk-toggleable__control sk-hidden--visually\" id=\"sk-estimator-id-25\" type=\"checkbox\" checked><label for=\"sk-estimator-id-25\" class=\"sk-toggleable__label sk-toggleable__label-arrow\">LogisticRegression</label><div class=\"sk-toggleable__content\"><pre>LogisticRegression(C=0.001, class_weight=&#x27;balanced&#x27;, random_state=5)</pre></div></div></div></div></div>"
      ],
      "text/plain": [
       "LogisticRegression(C=0.001, class_weight='balanced', random_state=5)"
      ]
     },
     "execution_count": 92,
     "metadata": {},
     "output_type": "execute_result"
    }
   ],
   "source": [
    "lr.fit(X,y)"
   ]
  },
  {
   "cell_type": "markdown",
   "metadata": {
    "_uuid": "e409eaafe9afbebc52c02ba218107f9fde6eb54c"
   },
   "source": [
    "## Bagging"
   ]
  },
  {
   "cell_type": "markdown",
   "metadata": {
    "_uuid": "094bd877f40d72cf269e0395fd7d6e070bce8701"
   },
   "source": [
    "Import modules and set up the parameters for bagging:"
   ]
  },
  {
   "cell_type": "code",
   "execution_count": 25,
   "metadata": {
    "_uuid": "ea666be2e57e478428cc553fd7e2ecd5d7ca8bee",
    "collapsed": true
   },
   "outputs": [],
   "source": [
    "from sklearn.ensemble import BaggingClassifier\n",
    "from sklearn.model_selection import cross_val_score, RandomizedSearchCV\n",
    "\n",
    "parameters = {'max_features': [2, 3, 4], 'max_samples': [0.5, 0.7, 0.9], \n",
    "              'base_estimator__C': [0.0001, 0.001, 0.01, 1, 10, 100]}"
   ]
  },
  {
   "cell_type": "markdown",
   "metadata": {
    "_uuid": "98db8aa7f3e6ae450091a61ac187cad6dc0a05aa"
   },
   "source": [
    "**Question 11.** Fit a bagging classifier with `random_state=42`. For the base classifiers, use 100 logistic regressors and use `RandomizedSearchCV` instead of `GridSearchCV`. It will take a lot of time to iterate over all 54 variants, so set the maximum number of iterations for `RandomizedSearchCV` to 20. Don't forget to set the parameters `cv` and `random_state=1`. What is the best *ROC AUC* you achieve?\n",
    "\n",
    "1. 80.75%\n",
    "2. 80.12%\n",
    "3. 79.62%\n",
    "4. 76.50%"
   ]
  },
  {
   "cell_type": "code",
   "execution_count": 26,
   "metadata": {
    "_uuid": "2c2e9cc7930cc6c3816f8538385d1f78c12b104b",
    "collapsed": true
   },
   "outputs": [],
   "source": [
    "# Your code here"
   ]
  },
  {
   "cell_type": "markdown",
   "metadata": {
    "_uuid": "09590fe9a20e8ab33fb09dc14ddc2862646e01b5",
    "collapsed": true
   },
   "source": [
    "**Question 12.** Give an interpretation of the best parameters for bagging. Why are these values of `max_features` and `max_samples` the best?\n",
    "\n",
    "1. For bagging it's important to use as few features as possible;\n",
    "2. Bagging works better on small samples;\n",
    "3. Less correlation between single models;\n",
    "4. The higher the number of features, the lower the loss of information."
   ]
  }
 ],
 "metadata": {
  "anaconda-cloud": {},
  "kernelspec": {
   "display_name": "Python 3",
   "language": "python",
   "name": "python3"
  },
  "language_info": {
   "codemirror_mode": {
    "name": "ipython",
    "version": 3
   },
   "file_extension": ".py",
   "mimetype": "text/x-python",
   "name": "python",
   "nbconvert_exporter": "python",
   "pygments_lexer": "ipython3",
   "version": "3.10.4"
  }
 },
 "nbformat": 4,
 "nbformat_minor": 1
}
